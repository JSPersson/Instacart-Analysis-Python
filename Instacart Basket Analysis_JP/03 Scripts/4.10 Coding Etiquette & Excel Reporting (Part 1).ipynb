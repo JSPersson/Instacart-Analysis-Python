{
 "cells": [
  {
   "cell_type": "markdown",
   "id": "b7d6caf6",
   "metadata": {},
   "source": [
    "### Table of Contents\n",
    "01. Import Libraries\n",
    "02. Import Data\n",
    "03. Explore Data\n",
    "04. Task 4.10 (Step 2): Address PII Data\n",
    "05. Task 4.10 (Step 3): Create Regional Segmentation of Data\n",
    "06. Task 4.10 (Step 4): Create Exclusion Flag for Low-activity Customers\n",
    "07. Task 4.10 (Step 5): Create Profiling Variable\n",
    "    01. Create Child Status Variable\n",
    "    02. Create Department Group Variable\n",
    "    03. Create Profiling Variable based on age, income, and number of dependants\n",
    "08. Task 4.10 (Step 6): Create Bar Chart to Show Profile Distribution\n",
    "09. Task 4.10 (Step 7): Aggregate Max, Min, Mean for Usage Frequency and Expenditure on Customer-Profile Level\n",
    "10. Task 4.10: (Step 8): Identify Link Between Profile and Regions/Departments\n",
    "11. Task 4.10 (Step 9): Additional Groupings and Visualizations\n",
    "12. Export Dataframe and Visualizations"
   ]
  },
  {
   "cell_type": "markdown",
   "id": "d4766e4a",
   "metadata": {},
   "source": [
    "# 01. Import Libraries"
   ]
  },
  {
   "cell_type": "code",
   "execution_count": 1,
   "id": "d1005b8b",
   "metadata": {},
   "outputs": [],
   "source": [
    "import pandas as pd\n",
    "import numpy as np\n",
    "import os\n",
    "import matplotlib.pyplot as plt\n",
    "import seaborn as sns\n",
    "import scipy"
   ]
  },
  {
   "cell_type": "markdown",
   "id": "37263a67",
   "metadata": {},
   "source": [
    "# 02. Import Data"
   ]
  },
  {
   "cell_type": "code",
   "execution_count": 2,
   "id": "eef69b49",
   "metadata": {},
   "outputs": [],
   "source": [
    "# Folder Path\n",
    "path = r'C:\\Users\\jrper\\OneDrive\\Documents\\Career Foundry Data Analytics Program\\Instacart Basket Analysis'"
   ]
  },
  {
   "cell_type": "code",
   "execution_count": 3,
   "id": "ad57a2a3",
   "metadata": {},
   "outputs": [],
   "source": [
    "# Import orders_products_merged.pkl\n",
    "df_ords_prods_cust = pd.read_pickle(os.path.join(path, '02 Data', 'Prepared Data', 'ords_prods_cust.pkl'))"
   ]
  },
  {
   "cell_type": "markdown",
   "id": "93087536",
   "metadata": {},
   "source": [
    "# 03. Explore Data"
   ]
  },
  {
   "cell_type": "code",
   "execution_count": 4,
   "id": "8168886a",
   "metadata": {},
   "outputs": [
    {
     "data": {
      "text/html": [
       "<div>\n",
       "<style scoped>\n",
       "    .dataframe tbody tr th:only-of-type {\n",
       "        vertical-align: middle;\n",
       "    }\n",
       "\n",
       "    .dataframe tbody tr th {\n",
       "        vertical-align: top;\n",
       "    }\n",
       "\n",
       "    .dataframe thead th {\n",
       "        text-align: right;\n",
       "    }\n",
       "</style>\n",
       "<table border=\"1\" class=\"dataframe\">\n",
       "  <thead>\n",
       "    <tr style=\"text-align: right;\">\n",
       "      <th></th>\n",
       "      <th>order_id</th>\n",
       "      <th>user_id</th>\n",
       "      <th>order_number</th>\n",
       "      <th>orders_day_of_week</th>\n",
       "      <th>order_hour_of_day</th>\n",
       "      <th>days_since_prior_order</th>\n",
       "      <th>product_id</th>\n",
       "      <th>add_to_cart_order</th>\n",
       "      <th>reordered</th>\n",
       "      <th>product_name</th>\n",
       "      <th>...</th>\n",
       "      <th>First Name</th>\n",
       "      <th>Last Name</th>\n",
       "      <th>Gender</th>\n",
       "      <th>STATE</th>\n",
       "      <th>Age</th>\n",
       "      <th>date_joined</th>\n",
       "      <th>number_of_dependants</th>\n",
       "      <th>fam_status</th>\n",
       "      <th>income</th>\n",
       "      <th>_merge</th>\n",
       "    </tr>\n",
       "  </thead>\n",
       "  <tbody>\n",
       "    <tr>\n",
       "      <th>0</th>\n",
       "      <td>2539329</td>\n",
       "      <td>1</td>\n",
       "      <td>1</td>\n",
       "      <td>2</td>\n",
       "      <td>8</td>\n",
       "      <td>NaN</td>\n",
       "      <td>196</td>\n",
       "      <td>1</td>\n",
       "      <td>0</td>\n",
       "      <td>Soda</td>\n",
       "      <td>...</td>\n",
       "      <td>Linda</td>\n",
       "      <td>Nguyen</td>\n",
       "      <td>Female</td>\n",
       "      <td>Alabama</td>\n",
       "      <td>31</td>\n",
       "      <td>2/17/2019</td>\n",
       "      <td>3</td>\n",
       "      <td>married</td>\n",
       "      <td>40423</td>\n",
       "      <td>both</td>\n",
       "    </tr>\n",
       "    <tr>\n",
       "      <th>1</th>\n",
       "      <td>2398795</td>\n",
       "      <td>1</td>\n",
       "      <td>2</td>\n",
       "      <td>3</td>\n",
       "      <td>7</td>\n",
       "      <td>15.0</td>\n",
       "      <td>196</td>\n",
       "      <td>1</td>\n",
       "      <td>1</td>\n",
       "      <td>Soda</td>\n",
       "      <td>...</td>\n",
       "      <td>Linda</td>\n",
       "      <td>Nguyen</td>\n",
       "      <td>Female</td>\n",
       "      <td>Alabama</td>\n",
       "      <td>31</td>\n",
       "      <td>2/17/2019</td>\n",
       "      <td>3</td>\n",
       "      <td>married</td>\n",
       "      <td>40423</td>\n",
       "      <td>both</td>\n",
       "    </tr>\n",
       "    <tr>\n",
       "      <th>2</th>\n",
       "      <td>473747</td>\n",
       "      <td>1</td>\n",
       "      <td>3</td>\n",
       "      <td>3</td>\n",
       "      <td>12</td>\n",
       "      <td>21.0</td>\n",
       "      <td>196</td>\n",
       "      <td>1</td>\n",
       "      <td>1</td>\n",
       "      <td>Soda</td>\n",
       "      <td>...</td>\n",
       "      <td>Linda</td>\n",
       "      <td>Nguyen</td>\n",
       "      <td>Female</td>\n",
       "      <td>Alabama</td>\n",
       "      <td>31</td>\n",
       "      <td>2/17/2019</td>\n",
       "      <td>3</td>\n",
       "      <td>married</td>\n",
       "      <td>40423</td>\n",
       "      <td>both</td>\n",
       "    </tr>\n",
       "    <tr>\n",
       "      <th>3</th>\n",
       "      <td>2254736</td>\n",
       "      <td>1</td>\n",
       "      <td>4</td>\n",
       "      <td>4</td>\n",
       "      <td>7</td>\n",
       "      <td>29.0</td>\n",
       "      <td>196</td>\n",
       "      <td>1</td>\n",
       "      <td>1</td>\n",
       "      <td>Soda</td>\n",
       "      <td>...</td>\n",
       "      <td>Linda</td>\n",
       "      <td>Nguyen</td>\n",
       "      <td>Female</td>\n",
       "      <td>Alabama</td>\n",
       "      <td>31</td>\n",
       "      <td>2/17/2019</td>\n",
       "      <td>3</td>\n",
       "      <td>married</td>\n",
       "      <td>40423</td>\n",
       "      <td>both</td>\n",
       "    </tr>\n",
       "    <tr>\n",
       "      <th>4</th>\n",
       "      <td>431534</td>\n",
       "      <td>1</td>\n",
       "      <td>5</td>\n",
       "      <td>4</td>\n",
       "      <td>15</td>\n",
       "      <td>28.0</td>\n",
       "      <td>196</td>\n",
       "      <td>1</td>\n",
       "      <td>1</td>\n",
       "      <td>Soda</td>\n",
       "      <td>...</td>\n",
       "      <td>Linda</td>\n",
       "      <td>Nguyen</td>\n",
       "      <td>Female</td>\n",
       "      <td>Alabama</td>\n",
       "      <td>31</td>\n",
       "      <td>2/17/2019</td>\n",
       "      <td>3</td>\n",
       "      <td>married</td>\n",
       "      <td>40423</td>\n",
       "      <td>both</td>\n",
       "    </tr>\n",
       "  </tbody>\n",
       "</table>\n",
       "<p>5 rows × 32 columns</p>\n",
       "</div>"
      ],
      "text/plain": [
       "   order_id  user_id  order_number  orders_day_of_week  order_hour_of_day  \\\n",
       "0   2539329        1             1                   2                  8   \n",
       "1   2398795        1             2                   3                  7   \n",
       "2    473747        1             3                   3                 12   \n",
       "3   2254736        1             4                   4                  7   \n",
       "4    431534        1             5                   4                 15   \n",
       "\n",
       "   days_since_prior_order  product_id  add_to_cart_order  reordered  \\\n",
       "0                     NaN         196                  1          0   \n",
       "1                    15.0         196                  1          1   \n",
       "2                    21.0         196                  1          1   \n",
       "3                    29.0         196                  1          1   \n",
       "4                    28.0         196                  1          1   \n",
       "\n",
       "  product_name  ...  First Name  Last Name  Gender    STATE Age date_joined  \\\n",
       "0         Soda  ...       Linda     Nguyen  Female  Alabama  31   2/17/2019   \n",
       "1         Soda  ...       Linda     Nguyen  Female  Alabama  31   2/17/2019   \n",
       "2         Soda  ...       Linda     Nguyen  Female  Alabama  31   2/17/2019   \n",
       "3         Soda  ...       Linda     Nguyen  Female  Alabama  31   2/17/2019   \n",
       "4         Soda  ...       Linda     Nguyen  Female  Alabama  31   2/17/2019   \n",
       "\n",
       "   number_of_dependants fam_status  income _merge  \n",
       "0                     3    married   40423   both  \n",
       "1                     3    married   40423   both  \n",
       "2                     3    married   40423   both  \n",
       "3                     3    married   40423   both  \n",
       "4                     3    married   40423   both  \n",
       "\n",
       "[5 rows x 32 columns]"
      ]
     },
     "execution_count": 4,
     "metadata": {},
     "output_type": "execute_result"
    }
   ],
   "source": [
    "# Check first 5 rows for df_ords_prods_cust\n",
    "df_ords_prods_cust.head()"
   ]
  },
  {
   "cell_type": "code",
   "execution_count": 5,
   "id": "147358da",
   "metadata": {},
   "outputs": [
    {
     "data": {
      "text/plain": [
       "Index(['order_id', 'user_id', 'order_number', 'orders_day_of_week',\n",
       "       'order_hour_of_day', 'days_since_prior_order', 'product_id',\n",
       "       'add_to_cart_order', 'reordered', 'product_name', 'aisle_id',\n",
       "       'department_id', 'prices', 'price_range_loc', 'busiest_days_2',\n",
       "       'busiest_period_of_day', 'max_order', 'loyalty_flag',\n",
       "       'user_prices_mean', 'spending_flag', 'days_since_prior_order_median',\n",
       "       'frequency_flag', 'First Name', 'Last Name', 'Gender', 'STATE', 'Age',\n",
       "       'date_joined', 'number_of_dependants', 'fam_status', 'income',\n",
       "       '_merge'],\n",
       "      dtype='object')"
      ]
     },
     "execution_count": 5,
     "metadata": {},
     "output_type": "execute_result"
    }
   ],
   "source": [
    "# List columns for df_ords_prods_cust\n",
    "df_ords_prods_cust.columns"
   ]
  },
  {
   "cell_type": "code",
   "execution_count": 6,
   "id": "52aae6a8",
   "metadata": {},
   "outputs": [
    {
     "data": {
      "text/plain": [
       "(32404859, 32)"
      ]
     },
     "execution_count": 6,
     "metadata": {},
     "output_type": "execute_result"
    }
   ],
   "source": [
    "# Check size for df_ords_prods_cust\n",
    "df_ords_prods_cust.shape"
   ]
  },
  {
   "cell_type": "markdown",
   "id": "d0ded5ed",
   "metadata": {},
   "source": [
    "#### Observations: Output is as expected."
   ]
  },
  {
   "cell_type": "markdown",
   "id": "a20c079a",
   "metadata": {},
   "source": [
    "# 04. Task 4.10 (Step 2): Address PII Data"
   ]
  },
  {
   "cell_type": "code",
   "execution_count": 7,
   "id": "22a868cc",
   "metadata": {},
   "outputs": [],
   "source": [
    "# Create dataframe without 'First Name' and 'Last Name' columns for data privacy\n",
    "df_ords_prods_cust = df_ords_prods_cust.drop(columns = ['First Name', 'Last Name'])"
   ]
  },
  {
   "cell_type": "code",
   "execution_count": 8,
   "id": "8c7b9064",
   "metadata": {},
   "outputs": [
    {
     "data": {
      "text/plain": [
       "Index(['order_id', 'user_id', 'order_number', 'orders_day_of_week',\n",
       "       'order_hour_of_day', 'days_since_prior_order', 'product_id',\n",
       "       'add_to_cart_order', 'reordered', 'product_name', 'aisle_id',\n",
       "       'department_id', 'prices', 'price_range_loc', 'busiest_days_2',\n",
       "       'busiest_period_of_day', 'max_order', 'loyalty_flag',\n",
       "       'user_prices_mean', 'spending_flag', 'days_since_prior_order_median',\n",
       "       'frequency_flag', 'Gender', 'STATE', 'Age', 'date_joined',\n",
       "       'number_of_dependants', 'fam_status', 'income', '_merge'],\n",
       "      dtype='object')"
      ]
     },
     "execution_count": 8,
     "metadata": {},
     "output_type": "execute_result"
    }
   ],
   "source": [
    "# Ensure column drop was successful\n",
    "df_ords_prods_cust.columns"
   ]
  },
  {
   "cell_type": "markdown",
   "id": "637c8d8a",
   "metadata": {},
   "source": [
    "#### Observations: Column drop was successful."
   ]
  },
  {
   "cell_type": "markdown",
   "id": "e0b56d92",
   "metadata": {},
   "source": [
    "# 05. Task 4.10 (Step 3): Create Regional Segmentation of Data"
   ]
  },
  {
   "cell_type": "code",
   "execution_count": 9,
   "id": "7e551a78",
   "metadata": {},
   "outputs": [
    {
     "data": {
      "text/plain": [
       "Pennsylvania            667082\n",
       "California              659783\n",
       "Rhode Island            656913\n",
       "Georgia                 656389\n",
       "New Mexico              654494\n",
       "Arizona                 653964\n",
       "North Carolina          651900\n",
       "Oklahoma                651739\n",
       "Alaska                  648495\n",
       "Minnesota               647825\n",
       "Massachusetts           646358\n",
       "Wyoming                 644255\n",
       "Virginia                641421\n",
       "Missouri                640732\n",
       "Texas                   640394\n",
       "Colorado                639280\n",
       "Maine                   638583\n",
       "North Dakota            638491\n",
       "Alabama                 638003\n",
       "Kansas                  637538\n",
       "Louisiana               637482\n",
       "Delaware                637024\n",
       "South Carolina          636754\n",
       "Oregon                  636425\n",
       "Arkansas                636144\n",
       "Nevada                  636139\n",
       "New York                635983\n",
       "Montana                 635265\n",
       "South Dakota            633772\n",
       "Illinois                633024\n",
       "Hawaii                  632901\n",
       "Washington              632852\n",
       "Mississippi             632675\n",
       "Kentucky                632490\n",
       "Michigan                630928\n",
       "Florida                 629027\n",
       "Ohio                    628319\n",
       "Wisconsin               628108\n",
       "New Jersey              627692\n",
       "Indiana                 627282\n",
       "Maryland                626579\n",
       "Nebraska                625813\n",
       "Iowa                    625493\n",
       "Connecticut             623022\n",
       "Tennessee               617873\n",
       "New Hampshire           615378\n",
       "District of Columbia    613695\n",
       "West Virginia           612296\n",
       "Utah                    611941\n",
       "Vermont                 611725\n",
       "Idaho                   607119\n",
       "Name: STATE, dtype: int64"
      ]
     },
     "execution_count": 9,
     "metadata": {},
     "output_type": "execute_result"
    }
   ],
   "source": [
    "# View 'STATE' column frequency\n",
    "df_ords_prods_cust['STATE'].value_counts(dropna = False)"
   ]
  },
  {
   "cell_type": "code",
   "execution_count": 10,
   "id": "e8e19ff3",
   "metadata": {},
   "outputs": [],
   "source": [
    "# Create list of states for each region\n",
    "Region_1 = ['Maine', 'New Hampshire', 'Vermont', 'Massachusetts', 'Rhode Island', 'Connecticut', 'New York', 'Pennsylvania', 'New Jersey']"
   ]
  },
  {
   "cell_type": "code",
   "execution_count": 11,
   "id": "510a5247",
   "metadata": {},
   "outputs": [],
   "source": [
    "Region_2 = ['Wisconsin', 'Michigan', 'Illinois', 'Indiana', 'Ohio', 'North Dakota', 'South Dakota', 'Nebraska', 'Kansas', 'Minnesota', 'Iowa', 'Missouri']"
   ]
  },
  {
   "cell_type": "code",
   "execution_count": 12,
   "id": "3d107ea1",
   "metadata": {},
   "outputs": [],
   "source": [
    "Region_3 = ['Delaware', 'Maryland', 'District of Columbia', 'Virginia', 'West Virginia', 'North Carolina', 'South Carolina', 'Georgia', 'Florida', 'Kentucky','Tennessee', 'Mississippi', 'Alabama', 'Oklahoma','Texas', 'Arkansas', 'Louisiana']"
   ]
  },
  {
   "cell_type": "code",
   "execution_count": 13,
   "id": "96ab1089",
   "metadata": {},
   "outputs": [],
   "source": [
    "Region_4 = ['Idaho', 'Montana', 'Wyoming', 'Nevada', 'Utah', 'Colorado', 'Arizona', 'New Mexico', 'Alaska', 'Washington', 'Oregon', 'California', 'Hawaii']"
   ]
  },
  {
   "cell_type": "code",
   "execution_count": 14,
   "id": "b7c0c322",
   "metadata": {},
   "outputs": [],
   "source": [
    "# Create 'region' variable using region lists \n",
    "df_ords_prods_cust.loc[df_ords_prods_cust['STATE'].isin(Region_1), 'region'] = 'Northeast'"
   ]
  },
  {
   "cell_type": "code",
   "execution_count": 15,
   "id": "72efbfac",
   "metadata": {},
   "outputs": [],
   "source": [
    "df_ords_prods_cust.loc[df_ords_prods_cust['STATE'].isin(Region_2), 'region'] = 'Midwest'"
   ]
  },
  {
   "cell_type": "code",
   "execution_count": 16,
   "id": "cc9387bf",
   "metadata": {},
   "outputs": [],
   "source": [
    "df_ords_prods_cust.loc[df_ords_prods_cust['STATE'].isin(Region_3), 'region'] = 'South'"
   ]
  },
  {
   "cell_type": "code",
   "execution_count": 17,
   "id": "eebdcd4c",
   "metadata": {},
   "outputs": [],
   "source": [
    "df_ords_prods_cust.loc[df_ords_prods_cust['STATE'].isin(Region_4), 'region'] = 'West'"
   ]
  },
  {
   "cell_type": "code",
   "execution_count": 18,
   "id": "24ca505a",
   "metadata": {},
   "outputs": [
    {
     "data": {
      "text/plain": [
       "South        10791885\n",
       "West          8292913\n",
       "Midwest       7597325\n",
       "Northeast     5722736\n",
       "Name: region, dtype: int64"
      ]
     },
     "execution_count": 18,
     "metadata": {},
     "output_type": "execute_result"
    }
   ],
   "source": [
    "# View frequency for new 'region' column\n",
    "df_ords_prods_cust['region'].value_counts(dropna = False)"
   ]
  },
  {
   "cell_type": "code",
   "execution_count": 19,
   "id": "dc2b950e",
   "metadata": {},
   "outputs": [
    {
     "data": {
      "text/plain": [
       "(32404859,)"
      ]
     },
     "execution_count": 19,
     "metadata": {},
     "output_type": "execute_result"
    }
   ],
   "source": [
    "# View size of new 'region' column\n",
    "df_ords_prods_cust['region'].shape"
   ]
  },
  {
   "cell_type": "markdown",
   "id": "49e9e865",
   "metadata": {},
   "source": [
    "#### Observations: New 'region' column created successfully, and counts are as expected."
   ]
  },
  {
   "cell_type": "code",
   "execution_count": 20,
   "id": "b788136e",
   "metadata": {},
   "outputs": [],
   "source": [
    "# Create crosstab for 'region' and 'spending_flag' columns to compare spending habits between regions\n",
    "crosstab = pd.crosstab(df_ords_prods_cust['region'], df_ords_prods_cust['spending_flag'], dropna = False)"
   ]
  },
  {
   "cell_type": "code",
   "execution_count": 21,
   "id": "9ad35c9d",
   "metadata": {},
   "outputs": [
    {
     "data": {
      "text/html": [
       "<div>\n",
       "<style scoped>\n",
       "    .dataframe tbody tr th:only-of-type {\n",
       "        vertical-align: middle;\n",
       "    }\n",
       "\n",
       "    .dataframe tbody tr th {\n",
       "        vertical-align: top;\n",
       "    }\n",
       "\n",
       "    .dataframe thead th {\n",
       "        text-align: right;\n",
       "    }\n",
       "</style>\n",
       "<table border=\"1\" class=\"dataframe\">\n",
       "  <thead>\n",
       "    <tr style=\"text-align: right;\">\n",
       "      <th>spending_flag</th>\n",
       "      <th>High Spender</th>\n",
       "      <th>Low Spender</th>\n",
       "    </tr>\n",
       "    <tr>\n",
       "      <th>region</th>\n",
       "      <th></th>\n",
       "      <th></th>\n",
       "    </tr>\n",
       "  </thead>\n",
       "  <tbody>\n",
       "    <tr>\n",
       "      <th>Midwest</th>\n",
       "      <td>29265</td>\n",
       "      <td>7568060</td>\n",
       "    </tr>\n",
       "    <tr>\n",
       "      <th>Northeast</th>\n",
       "      <td>18642</td>\n",
       "      <td>5704094</td>\n",
       "    </tr>\n",
       "    <tr>\n",
       "      <th>South</th>\n",
       "      <td>40564</td>\n",
       "      <td>10751321</td>\n",
       "    </tr>\n",
       "    <tr>\n",
       "      <th>West</th>\n",
       "      <td>31223</td>\n",
       "      <td>8261690</td>\n",
       "    </tr>\n",
       "  </tbody>\n",
       "</table>\n",
       "</div>"
      ],
      "text/plain": [
       "spending_flag  High Spender  Low Spender\n",
       "region                                  \n",
       "Midwest               29265      7568060\n",
       "Northeast             18642      5704094\n",
       "South                 40564     10751321\n",
       "West                  31223      8261690"
      ]
     },
     "execution_count": 21,
     "metadata": {},
     "output_type": "execute_result"
    }
   ],
   "source": [
    "# View crosstab\n",
    "crosstab"
   ]
  },
  {
   "cell_type": "markdown",
   "id": "c06e4209",
   "metadata": {},
   "source": [
    "#### Observations: The South has the largest number of high and low spenders, but it is also the region with the largest number of states."
   ]
  },
  {
   "cell_type": "markdown",
   "id": "719b89ea",
   "metadata": {},
   "source": [
    "# 06. Task 4.10 (Step 4): Create Exclusion Flag for Low-activity Customers"
   ]
  },
  {
   "cell_type": "code",
   "execution_count": 22,
   "id": "5770d89c",
   "metadata": {},
   "outputs": [],
   "source": [
    "# Create exclusion flag for low-activity customers\n",
    "df_ords_prods_cust.loc[df_ords_prods_cust['max_order'] >= 5, 'exclusion_flag'] = 'High_Activity'"
   ]
  },
  {
   "cell_type": "code",
   "execution_count": 23,
   "id": "d3c58b63",
   "metadata": {},
   "outputs": [],
   "source": [
    "df_ords_prods_cust.loc[df_ords_prods_cust['max_order'] < 5, 'exclusion_flag'] = 'Low_Activity'"
   ]
  },
  {
   "cell_type": "code",
   "execution_count": 24,
   "id": "9dc1b053",
   "metadata": {},
   "outputs": [
    {
     "data": {
      "text/html": [
       "<div>\n",
       "<style scoped>\n",
       "    .dataframe tbody tr th:only-of-type {\n",
       "        vertical-align: middle;\n",
       "    }\n",
       "\n",
       "    .dataframe tbody tr th {\n",
       "        vertical-align: top;\n",
       "    }\n",
       "\n",
       "    .dataframe thead th {\n",
       "        text-align: right;\n",
       "    }\n",
       "</style>\n",
       "<table border=\"1\" class=\"dataframe\">\n",
       "  <thead>\n",
       "    <tr style=\"text-align: right;\">\n",
       "      <th></th>\n",
       "      <th>order_id</th>\n",
       "      <th>user_id</th>\n",
       "      <th>order_number</th>\n",
       "      <th>orders_day_of_week</th>\n",
       "      <th>order_hour_of_day</th>\n",
       "      <th>days_since_prior_order</th>\n",
       "      <th>product_id</th>\n",
       "      <th>add_to_cart_order</th>\n",
       "      <th>reordered</th>\n",
       "      <th>product_name</th>\n",
       "      <th>...</th>\n",
       "      <th>Gender</th>\n",
       "      <th>STATE</th>\n",
       "      <th>Age</th>\n",
       "      <th>date_joined</th>\n",
       "      <th>number_of_dependants</th>\n",
       "      <th>fam_status</th>\n",
       "      <th>income</th>\n",
       "      <th>_merge</th>\n",
       "      <th>region</th>\n",
       "      <th>exclusion_flag</th>\n",
       "    </tr>\n",
       "  </thead>\n",
       "  <tbody>\n",
       "    <tr>\n",
       "      <th>0</th>\n",
       "      <td>2539329</td>\n",
       "      <td>1</td>\n",
       "      <td>1</td>\n",
       "      <td>2</td>\n",
       "      <td>8</td>\n",
       "      <td>NaN</td>\n",
       "      <td>196</td>\n",
       "      <td>1</td>\n",
       "      <td>0</td>\n",
       "      <td>Soda</td>\n",
       "      <td>...</td>\n",
       "      <td>Female</td>\n",
       "      <td>Alabama</td>\n",
       "      <td>31</td>\n",
       "      <td>2/17/2019</td>\n",
       "      <td>3</td>\n",
       "      <td>married</td>\n",
       "      <td>40423</td>\n",
       "      <td>both</td>\n",
       "      <td>South</td>\n",
       "      <td>High_Activity</td>\n",
       "    </tr>\n",
       "    <tr>\n",
       "      <th>1</th>\n",
       "      <td>2398795</td>\n",
       "      <td>1</td>\n",
       "      <td>2</td>\n",
       "      <td>3</td>\n",
       "      <td>7</td>\n",
       "      <td>15.0</td>\n",
       "      <td>196</td>\n",
       "      <td>1</td>\n",
       "      <td>1</td>\n",
       "      <td>Soda</td>\n",
       "      <td>...</td>\n",
       "      <td>Female</td>\n",
       "      <td>Alabama</td>\n",
       "      <td>31</td>\n",
       "      <td>2/17/2019</td>\n",
       "      <td>3</td>\n",
       "      <td>married</td>\n",
       "      <td>40423</td>\n",
       "      <td>both</td>\n",
       "      <td>South</td>\n",
       "      <td>High_Activity</td>\n",
       "    </tr>\n",
       "    <tr>\n",
       "      <th>2</th>\n",
       "      <td>473747</td>\n",
       "      <td>1</td>\n",
       "      <td>3</td>\n",
       "      <td>3</td>\n",
       "      <td>12</td>\n",
       "      <td>21.0</td>\n",
       "      <td>196</td>\n",
       "      <td>1</td>\n",
       "      <td>1</td>\n",
       "      <td>Soda</td>\n",
       "      <td>...</td>\n",
       "      <td>Female</td>\n",
       "      <td>Alabama</td>\n",
       "      <td>31</td>\n",
       "      <td>2/17/2019</td>\n",
       "      <td>3</td>\n",
       "      <td>married</td>\n",
       "      <td>40423</td>\n",
       "      <td>both</td>\n",
       "      <td>South</td>\n",
       "      <td>High_Activity</td>\n",
       "    </tr>\n",
       "    <tr>\n",
       "      <th>3</th>\n",
       "      <td>2254736</td>\n",
       "      <td>1</td>\n",
       "      <td>4</td>\n",
       "      <td>4</td>\n",
       "      <td>7</td>\n",
       "      <td>29.0</td>\n",
       "      <td>196</td>\n",
       "      <td>1</td>\n",
       "      <td>1</td>\n",
       "      <td>Soda</td>\n",
       "      <td>...</td>\n",
       "      <td>Female</td>\n",
       "      <td>Alabama</td>\n",
       "      <td>31</td>\n",
       "      <td>2/17/2019</td>\n",
       "      <td>3</td>\n",
       "      <td>married</td>\n",
       "      <td>40423</td>\n",
       "      <td>both</td>\n",
       "      <td>South</td>\n",
       "      <td>High_Activity</td>\n",
       "    </tr>\n",
       "    <tr>\n",
       "      <th>4</th>\n",
       "      <td>431534</td>\n",
       "      <td>1</td>\n",
       "      <td>5</td>\n",
       "      <td>4</td>\n",
       "      <td>15</td>\n",
       "      <td>28.0</td>\n",
       "      <td>196</td>\n",
       "      <td>1</td>\n",
       "      <td>1</td>\n",
       "      <td>Soda</td>\n",
       "      <td>...</td>\n",
       "      <td>Female</td>\n",
       "      <td>Alabama</td>\n",
       "      <td>31</td>\n",
       "      <td>2/17/2019</td>\n",
       "      <td>3</td>\n",
       "      <td>married</td>\n",
       "      <td>40423</td>\n",
       "      <td>both</td>\n",
       "      <td>South</td>\n",
       "      <td>High_Activity</td>\n",
       "    </tr>\n",
       "  </tbody>\n",
       "</table>\n",
       "<p>5 rows × 32 columns</p>\n",
       "</div>"
      ],
      "text/plain": [
       "   order_id  user_id  order_number  orders_day_of_week  order_hour_of_day  \\\n",
       "0   2539329        1             1                   2                  8   \n",
       "1   2398795        1             2                   3                  7   \n",
       "2    473747        1             3                   3                 12   \n",
       "3   2254736        1             4                   4                  7   \n",
       "4    431534        1             5                   4                 15   \n",
       "\n",
       "   days_since_prior_order  product_id  add_to_cart_order  reordered  \\\n",
       "0                     NaN         196                  1          0   \n",
       "1                    15.0         196                  1          1   \n",
       "2                    21.0         196                  1          1   \n",
       "3                    29.0         196                  1          1   \n",
       "4                    28.0         196                  1          1   \n",
       "\n",
       "  product_name  ...  Gender    STATE  Age date_joined number_of_dependants  \\\n",
       "0         Soda  ...  Female  Alabama   31   2/17/2019                    3   \n",
       "1         Soda  ...  Female  Alabama   31   2/17/2019                    3   \n",
       "2         Soda  ...  Female  Alabama   31   2/17/2019                    3   \n",
       "3         Soda  ...  Female  Alabama   31   2/17/2019                    3   \n",
       "4         Soda  ...  Female  Alabama   31   2/17/2019                    3   \n",
       "\n",
       "  fam_status  income _merge  region exclusion_flag  \n",
       "0    married   40423   both   South  High_Activity  \n",
       "1    married   40423   both   South  High_Activity  \n",
       "2    married   40423   both   South  High_Activity  \n",
       "3    married   40423   both   South  High_Activity  \n",
       "4    married   40423   both   South  High_Activity  \n",
       "\n",
       "[5 rows x 32 columns]"
      ]
     },
     "execution_count": 24,
     "metadata": {},
     "output_type": "execute_result"
    }
   ],
   "source": [
    "# Ensure 'exclusion_flag' was successfully created\n",
    "df_ords_prods_cust.head()"
   ]
  },
  {
   "cell_type": "code",
   "execution_count": 25,
   "id": "745e98d1",
   "metadata": {},
   "outputs": [
    {
     "data": {
      "text/plain": [
       "High_Activity    30964564\n",
       "Low_Activity      1440295\n",
       "Name: exclusion_flag, dtype: int64"
      ]
     },
     "execution_count": 25,
     "metadata": {},
     "output_type": "execute_result"
    }
   ],
   "source": [
    "# View 'exclusion_flag' frequency in df_ords_prods_cust\n",
    "df_ords_prods_cust['exclusion_flag'].value_counts(dropna = False)"
   ]
  },
  {
   "cell_type": "markdown",
   "id": "345f0ca5",
   "metadata": {},
   "source": [
    "#### Observations: 'exclusion_flag' was successfully created"
   ]
  },
  {
   "cell_type": "code",
   "execution_count": 26,
   "id": "498b456a",
   "metadata": {},
   "outputs": [],
   "source": [
    "# Create subset without 'Low_Activity' customers\n",
    "df_high_activity = df_ords_prods_cust[df_ords_prods_cust['exclusion_flag'] == 'High_Activity']"
   ]
  },
  {
   "cell_type": "code",
   "execution_count": 27,
   "id": "688a3bba",
   "metadata": {},
   "outputs": [
    {
     "data": {
      "text/html": [
       "<div>\n",
       "<style scoped>\n",
       "    .dataframe tbody tr th:only-of-type {\n",
       "        vertical-align: middle;\n",
       "    }\n",
       "\n",
       "    .dataframe tbody tr th {\n",
       "        vertical-align: top;\n",
       "    }\n",
       "\n",
       "    .dataframe thead th {\n",
       "        text-align: right;\n",
       "    }\n",
       "</style>\n",
       "<table border=\"1\" class=\"dataframe\">\n",
       "  <thead>\n",
       "    <tr style=\"text-align: right;\">\n",
       "      <th></th>\n",
       "      <th>order_id</th>\n",
       "      <th>user_id</th>\n",
       "      <th>order_number</th>\n",
       "      <th>orders_day_of_week</th>\n",
       "      <th>order_hour_of_day</th>\n",
       "      <th>days_since_prior_order</th>\n",
       "      <th>product_id</th>\n",
       "      <th>add_to_cart_order</th>\n",
       "      <th>reordered</th>\n",
       "      <th>product_name</th>\n",
       "      <th>...</th>\n",
       "      <th>Gender</th>\n",
       "      <th>STATE</th>\n",
       "      <th>Age</th>\n",
       "      <th>date_joined</th>\n",
       "      <th>number_of_dependants</th>\n",
       "      <th>fam_status</th>\n",
       "      <th>income</th>\n",
       "      <th>_merge</th>\n",
       "      <th>region</th>\n",
       "      <th>exclusion_flag</th>\n",
       "    </tr>\n",
       "  </thead>\n",
       "  <tbody>\n",
       "    <tr>\n",
       "      <th>0</th>\n",
       "      <td>2539329</td>\n",
       "      <td>1</td>\n",
       "      <td>1</td>\n",
       "      <td>2</td>\n",
       "      <td>8</td>\n",
       "      <td>NaN</td>\n",
       "      <td>196</td>\n",
       "      <td>1</td>\n",
       "      <td>0</td>\n",
       "      <td>Soda</td>\n",
       "      <td>...</td>\n",
       "      <td>Female</td>\n",
       "      <td>Alabama</td>\n",
       "      <td>31</td>\n",
       "      <td>2/17/2019</td>\n",
       "      <td>3</td>\n",
       "      <td>married</td>\n",
       "      <td>40423</td>\n",
       "      <td>both</td>\n",
       "      <td>South</td>\n",
       "      <td>High_Activity</td>\n",
       "    </tr>\n",
       "    <tr>\n",
       "      <th>1</th>\n",
       "      <td>2398795</td>\n",
       "      <td>1</td>\n",
       "      <td>2</td>\n",
       "      <td>3</td>\n",
       "      <td>7</td>\n",
       "      <td>15.0</td>\n",
       "      <td>196</td>\n",
       "      <td>1</td>\n",
       "      <td>1</td>\n",
       "      <td>Soda</td>\n",
       "      <td>...</td>\n",
       "      <td>Female</td>\n",
       "      <td>Alabama</td>\n",
       "      <td>31</td>\n",
       "      <td>2/17/2019</td>\n",
       "      <td>3</td>\n",
       "      <td>married</td>\n",
       "      <td>40423</td>\n",
       "      <td>both</td>\n",
       "      <td>South</td>\n",
       "      <td>High_Activity</td>\n",
       "    </tr>\n",
       "    <tr>\n",
       "      <th>2</th>\n",
       "      <td>473747</td>\n",
       "      <td>1</td>\n",
       "      <td>3</td>\n",
       "      <td>3</td>\n",
       "      <td>12</td>\n",
       "      <td>21.0</td>\n",
       "      <td>196</td>\n",
       "      <td>1</td>\n",
       "      <td>1</td>\n",
       "      <td>Soda</td>\n",
       "      <td>...</td>\n",
       "      <td>Female</td>\n",
       "      <td>Alabama</td>\n",
       "      <td>31</td>\n",
       "      <td>2/17/2019</td>\n",
       "      <td>3</td>\n",
       "      <td>married</td>\n",
       "      <td>40423</td>\n",
       "      <td>both</td>\n",
       "      <td>South</td>\n",
       "      <td>High_Activity</td>\n",
       "    </tr>\n",
       "    <tr>\n",
       "      <th>3</th>\n",
       "      <td>2254736</td>\n",
       "      <td>1</td>\n",
       "      <td>4</td>\n",
       "      <td>4</td>\n",
       "      <td>7</td>\n",
       "      <td>29.0</td>\n",
       "      <td>196</td>\n",
       "      <td>1</td>\n",
       "      <td>1</td>\n",
       "      <td>Soda</td>\n",
       "      <td>...</td>\n",
       "      <td>Female</td>\n",
       "      <td>Alabama</td>\n",
       "      <td>31</td>\n",
       "      <td>2/17/2019</td>\n",
       "      <td>3</td>\n",
       "      <td>married</td>\n",
       "      <td>40423</td>\n",
       "      <td>both</td>\n",
       "      <td>South</td>\n",
       "      <td>High_Activity</td>\n",
       "    </tr>\n",
       "    <tr>\n",
       "      <th>4</th>\n",
       "      <td>431534</td>\n",
       "      <td>1</td>\n",
       "      <td>5</td>\n",
       "      <td>4</td>\n",
       "      <td>15</td>\n",
       "      <td>28.0</td>\n",
       "      <td>196</td>\n",
       "      <td>1</td>\n",
       "      <td>1</td>\n",
       "      <td>Soda</td>\n",
       "      <td>...</td>\n",
       "      <td>Female</td>\n",
       "      <td>Alabama</td>\n",
       "      <td>31</td>\n",
       "      <td>2/17/2019</td>\n",
       "      <td>3</td>\n",
       "      <td>married</td>\n",
       "      <td>40423</td>\n",
       "      <td>both</td>\n",
       "      <td>South</td>\n",
       "      <td>High_Activity</td>\n",
       "    </tr>\n",
       "  </tbody>\n",
       "</table>\n",
       "<p>5 rows × 32 columns</p>\n",
       "</div>"
      ],
      "text/plain": [
       "   order_id  user_id  order_number  orders_day_of_week  order_hour_of_day  \\\n",
       "0   2539329        1             1                   2                  8   \n",
       "1   2398795        1             2                   3                  7   \n",
       "2    473747        1             3                   3                 12   \n",
       "3   2254736        1             4                   4                  7   \n",
       "4    431534        1             5                   4                 15   \n",
       "\n",
       "   days_since_prior_order  product_id  add_to_cart_order  reordered  \\\n",
       "0                     NaN         196                  1          0   \n",
       "1                    15.0         196                  1          1   \n",
       "2                    21.0         196                  1          1   \n",
       "3                    29.0         196                  1          1   \n",
       "4                    28.0         196                  1          1   \n",
       "\n",
       "  product_name  ...  Gender    STATE  Age date_joined number_of_dependants  \\\n",
       "0         Soda  ...  Female  Alabama   31   2/17/2019                    3   \n",
       "1         Soda  ...  Female  Alabama   31   2/17/2019                    3   \n",
       "2         Soda  ...  Female  Alabama   31   2/17/2019                    3   \n",
       "3         Soda  ...  Female  Alabama   31   2/17/2019                    3   \n",
       "4         Soda  ...  Female  Alabama   31   2/17/2019                    3   \n",
       "\n",
       "  fam_status  income _merge  region exclusion_flag  \n",
       "0    married   40423   both   South  High_Activity  \n",
       "1    married   40423   both   South  High_Activity  \n",
       "2    married   40423   both   South  High_Activity  \n",
       "3    married   40423   both   South  High_Activity  \n",
       "4    married   40423   both   South  High_Activity  \n",
       "\n",
       "[5 rows x 32 columns]"
      ]
     },
     "execution_count": 27,
     "metadata": {},
     "output_type": "execute_result"
    }
   ],
   "source": [
    "# View df_high_activity\n",
    "df_high_activity.head()"
   ]
  },
  {
   "cell_type": "code",
   "execution_count": 28,
   "id": "f4377763",
   "metadata": {},
   "outputs": [
    {
     "data": {
      "text/plain": [
       "High_Activity    30964564\n",
       "Name: exclusion_flag, dtype: int64"
      ]
     },
     "execution_count": 28,
     "metadata": {},
     "output_type": "execute_result"
    }
   ],
   "source": [
    "# View 'exclusion_flag' frequency in df_high_activity\n",
    "df_high_activity['exclusion_flag'].value_counts(dropna = False)"
   ]
  },
  {
   "cell_type": "markdown",
   "id": "3ed3e22c",
   "metadata": {},
   "source": [
    "#### Observations: Subset excluding 'Low_Activity' customers successfully created."
   ]
  },
  {
   "cell_type": "markdown",
   "id": "64122206",
   "metadata": {},
   "source": [
    "# 07. Task 4.10 (Step 5): Create Profiling Variable"
   ]
  },
  {
   "cell_type": "markdown",
   "id": "6d4eef2b",
   "metadata": {},
   "source": [
    "### Create Age Group Variable"
   ]
  },
  {
   "cell_type": "code",
   "execution_count": 29,
   "id": "1c574aa8",
   "metadata": {},
   "outputs": [
    {
     "data": {
      "text/plain": [
       "count    3.096456e+07\n",
       "mean     4.946803e+01\n",
       "std      1.848528e+01\n",
       "min      1.800000e+01\n",
       "25%      3.300000e+01\n",
       "50%      4.900000e+01\n",
       "75%      6.500000e+01\n",
       "max      8.100000e+01\n",
       "Name: Age, dtype: float64"
      ]
     },
     "execution_count": 29,
     "metadata": {},
     "output_type": "execute_result"
    }
   ],
   "source": [
    "# View 'Age' statistics\n",
    "df_high_activity['Age'].describe()"
   ]
  },
  {
   "cell_type": "code",
   "execution_count": 30,
   "id": "b55c7311",
   "metadata": {},
   "outputs": [
    {
     "name": "stderr",
     "output_type": "stream",
     "text": [
      "C:\\Users\\jrper\\AppData\\Local\\Temp\\ipykernel_3532\\1209536922.py:2: SettingWithCopyWarning: \n",
      "A value is trying to be set on a copy of a slice from a DataFrame.\n",
      "Try using .loc[row_indexer,col_indexer] = value instead\n",
      "\n",
      "See the caveats in the documentation: https://pandas.pydata.org/pandas-docs/stable/user_guide/indexing.html#returning-a-view-versus-a-copy\n",
      "  df_high_activity.loc[(df_high_activity['Age'] >= 18) & (df_high_activity['Age'] <= 35), 'age_group'] = 'Young_Adult'\n"
     ]
    }
   ],
   "source": [
    "# Create 'age-group' variable\n",
    "df_high_activity.loc[(df_high_activity['Age'] >= 18) & (df_high_activity['Age'] <= 35), 'age_group'] = 'Young_Adult'"
   ]
  },
  {
   "cell_type": "code",
   "execution_count": 31,
   "id": "9e8359e5",
   "metadata": {},
   "outputs": [],
   "source": [
    "df_high_activity.loc[(df_high_activity['Age'] >= 36) & (df_high_activity['Age'] <= 55), 'age_group'] = 'Middle_Age_Adult'"
   ]
  },
  {
   "cell_type": "code",
   "execution_count": 32,
   "id": "ed530b3c",
   "metadata": {},
   "outputs": [],
   "source": [
    "df_high_activity.loc[(df_high_activity['Age'] > 55), 'age_group'] = 'Older_Adult'"
   ]
  },
  {
   "cell_type": "code",
   "execution_count": 33,
   "id": "8a2ad3b1",
   "metadata": {
    "scrolled": true
   },
   "outputs": [
    {
     "data": {
      "text/plain": [
       "Older_Adult         12508298\n",
       "Middle_Age_Adult     9717461\n",
       "Young_Adult          8738805\n",
       "Name: age_group, dtype: int64"
      ]
     },
     "execution_count": 33,
     "metadata": {},
     "output_type": "execute_result"
    }
   ],
   "source": [
    "# View frequency for new 'age_group' variable\n",
    "df_high_activity['age_group'].value_counts(dropna = False)"
   ]
  },
  {
   "cell_type": "markdown",
   "id": "8692b7ee",
   "metadata": {},
   "source": [
    "#### Observations: Output is as expected."
   ]
  },
  {
   "cell_type": "markdown",
   "id": "fa9738b0",
   "metadata": {},
   "source": [
    "### Create Income Range Variable"
   ]
  },
  {
   "cell_type": "code",
   "execution_count": 34,
   "id": "b249dda0",
   "metadata": {},
   "outputs": [
    {
     "data": {
      "text/plain": [
       "count    3.096456e+07\n",
       "mean     9.967587e+04\n",
       "std      4.314187e+04\n",
       "min      2.590300e+04\n",
       "25%      6.729200e+04\n",
       "50%      9.676500e+04\n",
       "75%      1.281020e+05\n",
       "max      5.939010e+05\n",
       "Name: income, dtype: float64"
      ]
     },
     "execution_count": 34,
     "metadata": {},
     "output_type": "execute_result"
    }
   ],
   "source": [
    "# View 'income' statistics\n",
    "df_high_activity['income'].describe()"
   ]
  },
  {
   "cell_type": "code",
   "execution_count": 35,
   "id": "75f3d6de",
   "metadata": {},
   "outputs": [
    {
     "name": "stderr",
     "output_type": "stream",
     "text": [
      "C:\\Users\\jrper\\AppData\\Local\\Temp\\ipykernel_3532\\1780369873.py:2: SettingWithCopyWarning: \n",
      "A value is trying to be set on a copy of a slice from a DataFrame.\n",
      "Try using .loc[row_indexer,col_indexer] = value instead\n",
      "\n",
      "See the caveats in the documentation: https://pandas.pydata.org/pandas-docs/stable/user_guide/indexing.html#returning-a-view-versus-a-copy\n",
      "  df_high_activity.loc[(df_high_activity['income'] < 50000), 'income_range'] = 'Low_Income'\n"
     ]
    }
   ],
   "source": [
    "# Create 'income_range' variable\n",
    "df_high_activity.loc[(df_high_activity['income'] < 50000), 'income_range'] = 'Low_Income'"
   ]
  },
  {
   "cell_type": "code",
   "execution_count": 36,
   "id": "b125a3f1",
   "metadata": {
    "scrolled": true
   },
   "outputs": [],
   "source": [
    "df_high_activity.loc[(df_high_activity['income'] >= 50000) & (df_high_activity['income'] <= 150000), 'income_range'] = 'Mid_Income'"
   ]
  },
  {
   "cell_type": "code",
   "execution_count": 37,
   "id": "415311c3",
   "metadata": {},
   "outputs": [],
   "source": [
    "df_high_activity.loc[(df_high_activity['income'] > 150000), 'income_range'] = 'High_Income'"
   ]
  },
  {
   "cell_type": "code",
   "execution_count": 38,
   "id": "a3c6e28e",
   "metadata": {},
   "outputs": [
    {
     "data": {
      "text/plain": [
       "Mid_Income     23707476\n",
       "High_Income     3894534\n",
       "Low_Income      3362554\n",
       "Name: income_range, dtype: int64"
      ]
     },
     "execution_count": 38,
     "metadata": {},
     "output_type": "execute_result"
    }
   ],
   "source": [
    "# View frequency for new 'income-range' variable\n",
    "df_high_activity['income_range'].value_counts(dropna = False)"
   ]
  },
  {
   "cell_type": "markdown",
   "id": "0ac98776",
   "metadata": {},
   "source": [
    "#### Observations: Output is as expected."
   ]
  },
  {
   "cell_type": "markdown",
   "id": "5621bcd7",
   "metadata": {},
   "source": [
    "### Create Child Status Variable"
   ]
  },
  {
   "cell_type": "code",
   "execution_count": 39,
   "id": "13134bb7",
   "metadata": {},
   "outputs": [
    {
     "data": {
      "text/plain": [
       "3    7772516\n",
       "0    7739681\n",
       "2    7733261\n",
       "1    7719106\n",
       "Name: number_of_dependants, dtype: int64"
      ]
     },
     "execution_count": 39,
     "metadata": {},
     "output_type": "execute_result"
    }
   ],
   "source": [
    "# View 'number_of_dependants' frequency\n",
    "df_high_activity['number_of_dependants'].value_counts(dropna = False)"
   ]
  },
  {
   "cell_type": "code",
   "execution_count": 40,
   "id": "4d6fe132",
   "metadata": {},
   "outputs": [
    {
     "name": "stderr",
     "output_type": "stream",
     "text": [
      "C:\\Users\\jrper\\AppData\\Local\\Temp\\ipykernel_3532\\1486087771.py:2: SettingWithCopyWarning: \n",
      "A value is trying to be set on a copy of a slice from a DataFrame.\n",
      "Try using .loc[row_indexer,col_indexer] = value instead\n",
      "\n",
      "See the caveats in the documentation: https://pandas.pydata.org/pandas-docs/stable/user_guide/indexing.html#returning-a-view-versus-a-copy\n",
      "  df_high_activity.loc[(df_high_activity['number_of_dependants'] == 0), 'child_status'] = 'No'\n"
     ]
    }
   ],
   "source": [
    "# Create 'child_status' variable\n",
    "df_high_activity.loc[(df_high_activity['number_of_dependants'] == 0), 'child_status'] = 'No'"
   ]
  },
  {
   "cell_type": "code",
   "execution_count": 41,
   "id": "39726895",
   "metadata": {},
   "outputs": [],
   "source": [
    "df_high_activity.loc[(df_high_activity['number_of_dependants'] > 0), 'child_status'] = 'Yes'"
   ]
  },
  {
   "cell_type": "code",
   "execution_count": 42,
   "id": "b98f99d6",
   "metadata": {},
   "outputs": [
    {
     "data": {
      "text/plain": [
       "Yes    23224883\n",
       "No      7739681\n",
       "Name: child_status, dtype: int64"
      ]
     },
     "execution_count": 42,
     "metadata": {},
     "output_type": "execute_result"
    }
   ],
   "source": [
    "# View frequency for 'child_status' variable\n",
    "df_high_activity['child_status'].value_counts(dropna = False)"
   ]
  },
  {
   "cell_type": "markdown",
   "id": "156cda33",
   "metadata": {},
   "source": [
    "#### Observations: Output is as expected."
   ]
  },
  {
   "cell_type": "markdown",
   "id": "54561964",
   "metadata": {},
   "source": [
    "### Create Department Group Variable"
   ]
  },
  {
   "cell_type": "code",
   "execution_count": 43,
   "id": "0c9e3b9c",
   "metadata": {},
   "outputs": [
    {
     "data": {
      "text/plain": [
       "4     9079273\n",
       "16    5177182\n",
       "19    2766406\n",
       "7     2571901\n",
       "1     2121731\n",
       "13    1782705\n",
       "3     1120828\n",
       "15    1012074\n",
       "20    1003834\n",
       "9      822136\n",
       "17     699857\n",
       "12     674781\n",
       "14     670850\n",
       "11     424306\n",
       "18     410392\n",
       "6      255991\n",
       "5      144627\n",
       "8       93060\n",
       "21      64768\n",
       "2       34411\n",
       "10      33451\n",
       "Name: department_id, dtype: int64"
      ]
     },
     "execution_count": 43,
     "metadata": {},
     "output_type": "execute_result"
    }
   ],
   "source": [
    "# Check frequency for 'department_id'\n",
    "df_high_activity['department_id'].value_counts(dropna = False)"
   ]
  },
  {
   "cell_type": "code",
   "execution_count": 44,
   "id": "c8f6669b",
   "metadata": {},
   "outputs": [
    {
     "data": {
      "text/plain": [
       "dtype('int64')"
      ]
     },
     "execution_count": 44,
     "metadata": {},
     "output_type": "execute_result"
    }
   ],
   "source": [
    "# Check datatype for 'department_id'\n",
    "df_high_activity['department_id'].dtype"
   ]
  },
  {
   "cell_type": "code",
   "execution_count": 45,
   "id": "b2c2f181",
   "metadata": {},
   "outputs": [],
   "source": [
    "# Create lists for 'department_id' groups\n",
    "Foods = [1, 3, 4, 6, 7, 9, 10, 12, 13, 14, 15, 16, 19, 20]"
   ]
  },
  {
   "cell_type": "code",
   "execution_count": 46,
   "id": "2e905eb8",
   "metadata": {},
   "outputs": [],
   "source": [
    "Non_Foods = [8, 11, 17, 18]"
   ]
  },
  {
   "cell_type": "code",
   "execution_count": 47,
   "id": "0f701bfe",
   "metadata": {},
   "outputs": [],
   "source": [
    "Alcohol = [5]"
   ]
  },
  {
   "cell_type": "code",
   "execution_count": 48,
   "id": "b6646662",
   "metadata": {},
   "outputs": [],
   "source": [
    "Other = [2, 21]"
   ]
  },
  {
   "cell_type": "code",
   "execution_count": 49,
   "id": "da404eb9",
   "metadata": {},
   "outputs": [
    {
     "name": "stderr",
     "output_type": "stream",
     "text": [
      "C:\\Users\\jrper\\AppData\\Local\\Temp\\ipykernel_3532\\625755949.py:2: SettingWithCopyWarning: \n",
      "A value is trying to be set on a copy of a slice from a DataFrame.\n",
      "Try using .loc[row_indexer,col_indexer] = value instead\n",
      "\n",
      "See the caveats in the documentation: https://pandas.pydata.org/pandas-docs/stable/user_guide/indexing.html#returning-a-view-versus-a-copy\n",
      "  df_high_activity.loc[df_high_activity['department_id'].isin(Foods), 'department_groups'] = 'Foods'\n"
     ]
    }
   ],
   "source": [
    "# Create 'department_groups' variable\n",
    "df_high_activity.loc[df_high_activity['department_id'].isin(Foods), 'department_groups'] = 'Foods'"
   ]
  },
  {
   "cell_type": "code",
   "execution_count": 50,
   "id": "3e7dbd65",
   "metadata": {},
   "outputs": [],
   "source": [
    "df_high_activity.loc[df_high_activity['department_id'].isin(Non_Foods), 'department_groups'] = 'Non_Foods'"
   ]
  },
  {
   "cell_type": "code",
   "execution_count": 51,
   "id": "b31eec8e",
   "metadata": {},
   "outputs": [],
   "source": [
    "df_high_activity.loc[df_high_activity['department_id'].isin(Alcohol), 'department_groups'] = 'Alcohol'"
   ]
  },
  {
   "cell_type": "code",
   "execution_count": 52,
   "id": "fe52081e",
   "metadata": {},
   "outputs": [],
   "source": [
    "df_high_activity.loc[df_high_activity['department_id'].isin(Other), 'department_groups'] = 'Other'"
   ]
  },
  {
   "cell_type": "code",
   "execution_count": 53,
   "id": "18b62924",
   "metadata": {
    "scrolled": true
   },
   "outputs": [
    {
     "data": {
      "text/plain": [
       "Foods        29093143\n",
       "Non_Foods     1627615\n",
       "Alcohol        144627\n",
       "Other           99179\n",
       "Name: department_groups, dtype: int64"
      ]
     },
     "execution_count": 53,
     "metadata": {},
     "output_type": "execute_result"
    }
   ],
   "source": [
    "# Check frequency for 'department_groups'\n",
    "df_high_activity['department_groups'].value_counts(dropna = False)"
   ]
  },
  {
   "cell_type": "markdown",
   "id": "b58c3f9b",
   "metadata": {},
   "source": [
    "### Create Profiling Variable based on age, income, and number of dependants"
   ]
  },
  {
   "cell_type": "code",
   "execution_count": 54,
   "id": "29a03623",
   "metadata": {},
   "outputs": [
    {
     "name": "stderr",
     "output_type": "stream",
     "text": [
      "C:\\Users\\jrper\\AppData\\Local\\Temp\\ipykernel_3532\\1923892367.py:2: SettingWithCopyWarning: \n",
      "A value is trying to be set on a copy of a slice from a DataFrame.\n",
      "Try using .loc[row_indexer,col_indexer] = value instead\n",
      "\n",
      "See the caveats in the documentation: https://pandas.pydata.org/pandas-docs/stable/user_guide/indexing.html#returning-a-view-versus-a-copy\n",
      "  df_high_activity.loc[(df_high_activity['age_group'] == 'Young_Adult') & (df_high_activity['income_range'] == 'Low_Income') & (df_high_activity['child_status'] == 'Yes'), 'profile'] = 'YA_LI_C'\n"
     ]
    }
   ],
   "source": [
    "# Create 'profile' variable\n",
    "df_high_activity.loc[(df_high_activity['age_group'] == 'Young_Adult') & (df_high_activity['income_range'] == 'Low_Income') & (df_high_activity['child_status'] == 'Yes'), 'profile'] = 'YA_LI_C'"
   ]
  },
  {
   "cell_type": "code",
   "execution_count": 55,
   "id": "f476b0ae",
   "metadata": {},
   "outputs": [],
   "source": [
    "df_high_activity.loc[(df_high_activity['age_group'] == 'Young_Adult') & (df_high_activity['income_range'] == 'Low_Income') & (df_high_activity['child_status'] == 'No'), 'profile'] = 'YA_LI_NC'"
   ]
  },
  {
   "cell_type": "code",
   "execution_count": 56,
   "id": "54f3c74d",
   "metadata": {},
   "outputs": [],
   "source": [
    "df_high_activity.loc[(df_high_activity['age_group'] == 'Young_Adult') & (df_high_activity['income_range'] == 'Mid_Income') & (df_high_activity['child_status'] == 'Yes'), 'profile'] = 'YA_MI_C'"
   ]
  },
  {
   "cell_type": "code",
   "execution_count": 57,
   "id": "4730abee",
   "metadata": {},
   "outputs": [],
   "source": [
    "df_high_activity.loc[(df_high_activity['age_group'] == 'Young_Adult') & (df_high_activity['income_range'] == 'Mid_Income') & (df_high_activity['child_status'] == 'No'), 'profile'] = 'YA_MI_NC'"
   ]
  },
  {
   "cell_type": "code",
   "execution_count": 58,
   "id": "ffba0f96",
   "metadata": {},
   "outputs": [],
   "source": [
    "df_high_activity.loc[(df_high_activity['age_group'] == 'Young_Adult') & (df_high_activity['income_range'] == 'High_Income') & (df_high_activity['child_status'] == 'Yes'), 'profile'] = 'YA_HI_C'"
   ]
  },
  {
   "cell_type": "code",
   "execution_count": 59,
   "id": "e66faf04",
   "metadata": {},
   "outputs": [],
   "source": [
    "df_high_activity.loc[(df_high_activity['age_group'] == 'Young_Adult') & (df_high_activity['income_range'] == 'High_Income') & (df_high_activity['child_status'] == 'No'), 'profile'] = 'YA_HI_NC'"
   ]
  },
  {
   "cell_type": "code",
   "execution_count": 60,
   "id": "79d6c877",
   "metadata": {},
   "outputs": [],
   "source": [
    "df_high_activity.loc[(df_high_activity['age_group'] == 'Middle_Age_Adult') & (df_high_activity['income_range'] == 'Low_Income') & (df_high_activity['child_status'] == 'Yes'), 'profile'] = 'MA_LI_C'"
   ]
  },
  {
   "cell_type": "code",
   "execution_count": 61,
   "id": "8c83cc64",
   "metadata": {},
   "outputs": [],
   "source": [
    "df_high_activity.loc[(df_high_activity['age_group'] == 'Middle_Age_Adult') & (df_high_activity['income_range'] == 'Low_Income') & (df_high_activity['child_status'] == 'No'), 'profile'] = 'MA_LI_NC'"
   ]
  },
  {
   "cell_type": "code",
   "execution_count": 62,
   "id": "5a0f1a63",
   "metadata": {},
   "outputs": [],
   "source": [
    "df_high_activity.loc[(df_high_activity['age_group'] == 'Middle_Age_Adult') & (df_high_activity['income_range'] == 'Mid_Income') & (df_high_activity['child_status'] == 'Yes'), 'profile'] = 'MA_MI_C'"
   ]
  },
  {
   "cell_type": "code",
   "execution_count": 63,
   "id": "8444f505",
   "metadata": {},
   "outputs": [],
   "source": [
    "df_high_activity.loc[(df_high_activity['age_group'] == 'Middle_Age_Adult') & (df_high_activity['income_range'] == 'Mid_Income') & (df_high_activity['child_status'] == 'No'), 'profile'] = 'MA_MI_NC'"
   ]
  },
  {
   "cell_type": "code",
   "execution_count": 64,
   "id": "d47a89f0",
   "metadata": {},
   "outputs": [],
   "source": [
    "df_high_activity.loc[(df_high_activity['age_group'] == 'Middle_Age_Adult') & (df_high_activity['income_range'] == 'High_Income') & (df_high_activity['child_status'] == 'Yes'), 'profile'] = 'MA_HI_C'"
   ]
  },
  {
   "cell_type": "code",
   "execution_count": 65,
   "id": "0d9fc3d0",
   "metadata": {},
   "outputs": [],
   "source": [
    "df_high_activity.loc[(df_high_activity['age_group'] == 'Middle_Age_Adult') & (df_high_activity['income_range'] == 'High_Income') & (df_high_activity['child_status'] == 'No'), 'profile'] = 'MA_HI_NC'"
   ]
  },
  {
   "cell_type": "code",
   "execution_count": 66,
   "id": "65691ffd",
   "metadata": {},
   "outputs": [],
   "source": [
    "df_high_activity.loc[(df_high_activity['age_group'] == 'Older_Adult') & (df_high_activity['income_range'] == 'Low_Income') & (df_high_activity['child_status'] == 'Yes'), 'profile'] = 'OA_LI_C'"
   ]
  },
  {
   "cell_type": "code",
   "execution_count": 67,
   "id": "d69f1282",
   "metadata": {},
   "outputs": [],
   "source": [
    "df_high_activity.loc[(df_high_activity['age_group'] == 'Older_Adult') & (df_high_activity['income_range'] == 'Low_Income') & (df_high_activity['child_status'] == 'No'), 'profile'] = 'OA_LI_NC'"
   ]
  },
  {
   "cell_type": "code",
   "execution_count": 68,
   "id": "90420299",
   "metadata": {},
   "outputs": [],
   "source": [
    "df_high_activity.loc[(df_high_activity['age_group'] == 'Older_Adult') & (df_high_activity['income_range'] == 'Mid_Income') & (df_high_activity['child_status'] == 'Yes'), 'profile'] = 'OA_MI_C'"
   ]
  },
  {
   "cell_type": "code",
   "execution_count": 69,
   "id": "1c7ea6d3",
   "metadata": {},
   "outputs": [],
   "source": [
    "df_high_activity.loc[(df_high_activity['age_group'] == 'Older_Adult') & (df_high_activity['income_range'] == 'Mid_Income') & (df_high_activity['child_status'] == 'No'), 'profile'] = 'OA_MI_NC'"
   ]
  },
  {
   "cell_type": "code",
   "execution_count": 70,
   "id": "69a58caf",
   "metadata": {},
   "outputs": [],
   "source": [
    "df_high_activity.loc[(df_high_activity['age_group'] == 'Older_Adult') & (df_high_activity['income_range'] == 'High_Income') & (df_high_activity['child_status'] == 'Yes'), 'profile'] = 'OA_HI_C'"
   ]
  },
  {
   "cell_type": "code",
   "execution_count": 71,
   "id": "7889c8f2",
   "metadata": {},
   "outputs": [],
   "source": [
    "df_high_activity.loc[(df_high_activity['age_group'] == 'Older_Adult') & (df_high_activity['income_range'] == 'High_Income') & (df_high_activity['child_status'] == 'No'), 'profile'] = 'OA_HI_NC'"
   ]
  },
  {
   "cell_type": "code",
   "execution_count": 72,
   "id": "cc2d2007",
   "metadata": {},
   "outputs": [
    {
     "data": {
      "text/plain": [
       "OA_MI_C     6827744\n",
       "MA_MI_C     5492999\n",
       "YA_MI_C     5490445\n",
       "OA_MI_NC    2281440\n",
       "MA_MI_NC    1812716\n",
       "YA_MI_NC    1802132\n",
       "OA_HI_C     1769730\n",
       "MA_HI_C     1066765\n",
       "YA_LI_C     1009104\n",
       "OA_LI_C      765575\n",
       "MA_LI_C      740955\n",
       "OA_HI_NC     611989\n",
       "MA_HI_NC     364079\n",
       "YA_LI_NC     355153\n",
       "OA_LI_NC     251820\n",
       "MA_LI_NC     239947\n",
       "YA_HI_C       61566\n",
       "YA_HI_NC      20405\n",
       "Name: profile, dtype: int64"
      ]
     },
     "execution_count": 72,
     "metadata": {},
     "output_type": "execute_result"
    }
   ],
   "source": [
    "# Check frequency for new 'profile' variable\n",
    "df_high_activity['profile'].value_counts(dropna = False)"
   ]
  },
  {
   "cell_type": "code",
   "execution_count": 73,
   "id": "f75dc73f",
   "metadata": {},
   "outputs": [
    {
     "data": {
      "text/html": [
       "<div>\n",
       "<style scoped>\n",
       "    .dataframe tbody tr th:only-of-type {\n",
       "        vertical-align: middle;\n",
       "    }\n",
       "\n",
       "    .dataframe tbody tr th {\n",
       "        vertical-align: top;\n",
       "    }\n",
       "\n",
       "    .dataframe thead th {\n",
       "        text-align: right;\n",
       "    }\n",
       "</style>\n",
       "<table border=\"1\" class=\"dataframe\">\n",
       "  <thead>\n",
       "    <tr style=\"text-align: right;\">\n",
       "      <th></th>\n",
       "      <th>order_id</th>\n",
       "      <th>user_id</th>\n",
       "      <th>order_number</th>\n",
       "      <th>orders_day_of_week</th>\n",
       "      <th>order_hour_of_day</th>\n",
       "      <th>days_since_prior_order</th>\n",
       "      <th>product_id</th>\n",
       "      <th>add_to_cart_order</th>\n",
       "      <th>reordered</th>\n",
       "      <th>product_name</th>\n",
       "      <th>...</th>\n",
       "      <th>fam_status</th>\n",
       "      <th>income</th>\n",
       "      <th>_merge</th>\n",
       "      <th>region</th>\n",
       "      <th>exclusion_flag</th>\n",
       "      <th>age_group</th>\n",
       "      <th>income_range</th>\n",
       "      <th>child_status</th>\n",
       "      <th>department_groups</th>\n",
       "      <th>profile</th>\n",
       "    </tr>\n",
       "  </thead>\n",
       "  <tbody>\n",
       "    <tr>\n",
       "      <th>0</th>\n",
       "      <td>2539329</td>\n",
       "      <td>1</td>\n",
       "      <td>1</td>\n",
       "      <td>2</td>\n",
       "      <td>8</td>\n",
       "      <td>NaN</td>\n",
       "      <td>196</td>\n",
       "      <td>1</td>\n",
       "      <td>0</td>\n",
       "      <td>Soda</td>\n",
       "      <td>...</td>\n",
       "      <td>married</td>\n",
       "      <td>40423</td>\n",
       "      <td>both</td>\n",
       "      <td>South</td>\n",
       "      <td>High_Activity</td>\n",
       "      <td>Young_Adult</td>\n",
       "      <td>Low_Income</td>\n",
       "      <td>Yes</td>\n",
       "      <td>Foods</td>\n",
       "      <td>YA_LI_C</td>\n",
       "    </tr>\n",
       "    <tr>\n",
       "      <th>1</th>\n",
       "      <td>2398795</td>\n",
       "      <td>1</td>\n",
       "      <td>2</td>\n",
       "      <td>3</td>\n",
       "      <td>7</td>\n",
       "      <td>15.0</td>\n",
       "      <td>196</td>\n",
       "      <td>1</td>\n",
       "      <td>1</td>\n",
       "      <td>Soda</td>\n",
       "      <td>...</td>\n",
       "      <td>married</td>\n",
       "      <td>40423</td>\n",
       "      <td>both</td>\n",
       "      <td>South</td>\n",
       "      <td>High_Activity</td>\n",
       "      <td>Young_Adult</td>\n",
       "      <td>Low_Income</td>\n",
       "      <td>Yes</td>\n",
       "      <td>Foods</td>\n",
       "      <td>YA_LI_C</td>\n",
       "    </tr>\n",
       "    <tr>\n",
       "      <th>2</th>\n",
       "      <td>473747</td>\n",
       "      <td>1</td>\n",
       "      <td>3</td>\n",
       "      <td>3</td>\n",
       "      <td>12</td>\n",
       "      <td>21.0</td>\n",
       "      <td>196</td>\n",
       "      <td>1</td>\n",
       "      <td>1</td>\n",
       "      <td>Soda</td>\n",
       "      <td>...</td>\n",
       "      <td>married</td>\n",
       "      <td>40423</td>\n",
       "      <td>both</td>\n",
       "      <td>South</td>\n",
       "      <td>High_Activity</td>\n",
       "      <td>Young_Adult</td>\n",
       "      <td>Low_Income</td>\n",
       "      <td>Yes</td>\n",
       "      <td>Foods</td>\n",
       "      <td>YA_LI_C</td>\n",
       "    </tr>\n",
       "    <tr>\n",
       "      <th>3</th>\n",
       "      <td>2254736</td>\n",
       "      <td>1</td>\n",
       "      <td>4</td>\n",
       "      <td>4</td>\n",
       "      <td>7</td>\n",
       "      <td>29.0</td>\n",
       "      <td>196</td>\n",
       "      <td>1</td>\n",
       "      <td>1</td>\n",
       "      <td>Soda</td>\n",
       "      <td>...</td>\n",
       "      <td>married</td>\n",
       "      <td>40423</td>\n",
       "      <td>both</td>\n",
       "      <td>South</td>\n",
       "      <td>High_Activity</td>\n",
       "      <td>Young_Adult</td>\n",
       "      <td>Low_Income</td>\n",
       "      <td>Yes</td>\n",
       "      <td>Foods</td>\n",
       "      <td>YA_LI_C</td>\n",
       "    </tr>\n",
       "    <tr>\n",
       "      <th>4</th>\n",
       "      <td>431534</td>\n",
       "      <td>1</td>\n",
       "      <td>5</td>\n",
       "      <td>4</td>\n",
       "      <td>15</td>\n",
       "      <td>28.0</td>\n",
       "      <td>196</td>\n",
       "      <td>1</td>\n",
       "      <td>1</td>\n",
       "      <td>Soda</td>\n",
       "      <td>...</td>\n",
       "      <td>married</td>\n",
       "      <td>40423</td>\n",
       "      <td>both</td>\n",
       "      <td>South</td>\n",
       "      <td>High_Activity</td>\n",
       "      <td>Young_Adult</td>\n",
       "      <td>Low_Income</td>\n",
       "      <td>Yes</td>\n",
       "      <td>Foods</td>\n",
       "      <td>YA_LI_C</td>\n",
       "    </tr>\n",
       "  </tbody>\n",
       "</table>\n",
       "<p>5 rows × 37 columns</p>\n",
       "</div>"
      ],
      "text/plain": [
       "   order_id  user_id  order_number  orders_day_of_week  order_hour_of_day  \\\n",
       "0   2539329        1             1                   2                  8   \n",
       "1   2398795        1             2                   3                  7   \n",
       "2    473747        1             3                   3                 12   \n",
       "3   2254736        1             4                   4                  7   \n",
       "4    431534        1             5                   4                 15   \n",
       "\n",
       "   days_since_prior_order  product_id  add_to_cart_order  reordered  \\\n",
       "0                     NaN         196                  1          0   \n",
       "1                    15.0         196                  1          1   \n",
       "2                    21.0         196                  1          1   \n",
       "3                    29.0         196                  1          1   \n",
       "4                    28.0         196                  1          1   \n",
       "\n",
       "  product_name  ...  fam_status  income  _merge region exclusion_flag  \\\n",
       "0         Soda  ...     married   40423    both  South  High_Activity   \n",
       "1         Soda  ...     married   40423    both  South  High_Activity   \n",
       "2         Soda  ...     married   40423    both  South  High_Activity   \n",
       "3         Soda  ...     married   40423    both  South  High_Activity   \n",
       "4         Soda  ...     married   40423    both  South  High_Activity   \n",
       "\n",
       "     age_group  income_range child_status  department_groups  profile  \n",
       "0  Young_Adult    Low_Income          Yes              Foods  YA_LI_C  \n",
       "1  Young_Adult    Low_Income          Yes              Foods  YA_LI_C  \n",
       "2  Young_Adult    Low_Income          Yes              Foods  YA_LI_C  \n",
       "3  Young_Adult    Low_Income          Yes              Foods  YA_LI_C  \n",
       "4  Young_Adult    Low_Income          Yes              Foods  YA_LI_C  \n",
       "\n",
       "[5 rows x 37 columns]"
      ]
     },
     "execution_count": 73,
     "metadata": {},
     "output_type": "execute_result"
    }
   ],
   "source": [
    "# Check dataframe output\n",
    "df_high_activity.head()"
   ]
  },
  {
   "cell_type": "markdown",
   "id": "aabe460c",
   "metadata": {},
   "source": [
    "#### Observations: Output is as expected. Value counts add up to 30,964,564. "
   ]
  },
  {
   "cell_type": "markdown",
   "id": "be388ba7",
   "metadata": {},
   "source": [
    "# 08. Task 4.10 (Step 6): Create Bar Chart to Show Profile Distribution"
   ]
  },
  {
   "cell_type": "code",
   "execution_count": 74,
   "id": "61f4de3b",
   "metadata": {},
   "outputs": [
    {
     "data": {
      "image/png": "[encoded data removed]",
      "text/plain": [
       "<Figure size 640x480 with 1 Axes>"
      ]
     },
     "metadata": {},
     "output_type": "display_data"
    }
   ],
   "source": [
    "# Create bar chart for 'profile' variable\n",
    "hist_bar = df_high_activity['profile'].value_counts().plot.bar()"
   ]
  },
  {
   "cell_type": "markdown",
   "id": "5407b8e1",
   "metadata": {},
   "source": [
    "### Profile Abbreviations:\n",
    "### YA: Young Adult (18-35)\n",
    "### MA: Middle Age Adult (36-55)\n",
    "### OA: Older Adult (55+)\n",
    "\n",
    "### LI: Low Income (<50,000)\n",
    "### MI: Mid Income (50,000-150,000)\n",
    "### HI: High Income (150,000 +)\n",
    "\n",
    "### C: Children\n",
    "### NC: No Children"
   ]
  },
  {
   "cell_type": "markdown",
   "id": "b9cfd06f",
   "metadata": {},
   "source": [
    "# 09. Task 4.10 (Step 7): Aggregate Max, Min, Mean for Usage Frequency and Expenditure on Customer-Profile Level"
   ]
  },
  {
   "cell_type": "code",
   "execution_count": 75,
   "id": "c126c941",
   "metadata": {},
   "outputs": [
    {
     "data": {
      "text/html": [
       "<div>\n",
       "<style scoped>\n",
       "    .dataframe tbody tr th:only-of-type {\n",
       "        vertical-align: middle;\n",
       "    }\n",
       "\n",
       "    .dataframe tbody tr th {\n",
       "        vertical-align: top;\n",
       "    }\n",
       "\n",
       "    .dataframe thead tr th {\n",
       "        text-align: left;\n",
       "    }\n",
       "\n",
       "    .dataframe thead tr:last-of-type th {\n",
       "        text-align: right;\n",
       "    }\n",
       "</style>\n",
       "<table border=\"1\" class=\"dataframe\">\n",
       "  <thead>\n",
       "    <tr>\n",
       "      <th></th>\n",
       "      <th colspan=\"3\" halign=\"left\">order_number</th>\n",
       "      <th colspan=\"3\" halign=\"left\">days_since_prior_order</th>\n",
       "      <th colspan=\"3\" halign=\"left\">prices</th>\n",
       "    </tr>\n",
       "    <tr>\n",
       "      <th></th>\n",
       "      <th>mean</th>\n",
       "      <th>min</th>\n",
       "      <th>max</th>\n",
       "      <th>mean</th>\n",
       "      <th>min</th>\n",
       "      <th>max</th>\n",
       "      <th>mean</th>\n",
       "      <th>min</th>\n",
       "      <th>max</th>\n",
       "    </tr>\n",
       "    <tr>\n",
       "      <th>profile</th>\n",
       "      <th></th>\n",
       "      <th></th>\n",
       "      <th></th>\n",
       "      <th></th>\n",
       "      <th></th>\n",
       "      <th></th>\n",
       "      <th></th>\n",
       "      <th></th>\n",
       "      <th></th>\n",
       "    </tr>\n",
       "  </thead>\n",
       "  <tbody>\n",
       "    <tr>\n",
       "      <th>MA_HI_C</th>\n",
       "      <td>17.968315</td>\n",
       "      <td>1</td>\n",
       "      <td>99</td>\n",
       "      <td>10.707262</td>\n",
       "      <td>0.0</td>\n",
       "      <td>30.0</td>\n",
       "      <td>7.938538</td>\n",
       "      <td>1.0</td>\n",
       "      <td>25.0</td>\n",
       "    </tr>\n",
       "    <tr>\n",
       "      <th>MA_HI_NC</th>\n",
       "      <td>18.401995</td>\n",
       "      <td>1</td>\n",
       "      <td>99</td>\n",
       "      <td>10.523352</td>\n",
       "      <td>0.0</td>\n",
       "      <td>30.0</td>\n",
       "      <td>7.934507</td>\n",
       "      <td>1.0</td>\n",
       "      <td>25.0</td>\n",
       "    </tr>\n",
       "    <tr>\n",
       "      <th>MA_LI_C</th>\n",
       "      <td>16.899787</td>\n",
       "      <td>1</td>\n",
       "      <td>99</td>\n",
       "      <td>11.188045</td>\n",
       "      <td>0.0</td>\n",
       "      <td>30.0</td>\n",
       "      <td>6.637145</td>\n",
       "      <td>1.0</td>\n",
       "      <td>25.0</td>\n",
       "    </tr>\n",
       "    <tr>\n",
       "      <th>MA_LI_NC</th>\n",
       "      <td>16.815688</td>\n",
       "      <td>1</td>\n",
       "      <td>99</td>\n",
       "      <td>11.216042</td>\n",
       "      <td>0.0</td>\n",
       "      <td>30.0</td>\n",
       "      <td>6.597905</td>\n",
       "      <td>1.0</td>\n",
       "      <td>25.0</td>\n",
       "    </tr>\n",
       "    <tr>\n",
       "      <th>MA_MI_C</th>\n",
       "      <td>17.950856</td>\n",
       "      <td>1</td>\n",
       "      <td>99</td>\n",
       "      <td>10.760579</td>\n",
       "      <td>0.0</td>\n",
       "      <td>30.0</td>\n",
       "      <td>7.916403</td>\n",
       "      <td>1.0</td>\n",
       "      <td>25.0</td>\n",
       "    </tr>\n",
       "    <tr>\n",
       "      <th>MA_MI_NC</th>\n",
       "      <td>17.881770</td>\n",
       "      <td>1</td>\n",
       "      <td>99</td>\n",
       "      <td>10.820841</td>\n",
       "      <td>0.0</td>\n",
       "      <td>30.0</td>\n",
       "      <td>7.913241</td>\n",
       "      <td>1.0</td>\n",
       "      <td>25.0</td>\n",
       "    </tr>\n",
       "    <tr>\n",
       "      <th>OA_HI_C</th>\n",
       "      <td>17.872965</td>\n",
       "      <td>1</td>\n",
       "      <td>99</td>\n",
       "      <td>10.736970</td>\n",
       "      <td>0.0</td>\n",
       "      <td>30.0</td>\n",
       "      <td>7.945533</td>\n",
       "      <td>1.0</td>\n",
       "      <td>25.0</td>\n",
       "    </tr>\n",
       "    <tr>\n",
       "      <th>OA_HI_NC</th>\n",
       "      <td>18.432808</td>\n",
       "      <td>1</td>\n",
       "      <td>99</td>\n",
       "      <td>10.630443</td>\n",
       "      <td>0.0</td>\n",
       "      <td>30.0</td>\n",
       "      <td>7.927132</td>\n",
       "      <td>1.0</td>\n",
       "      <td>25.0</td>\n",
       "    </tr>\n",
       "    <tr>\n",
       "      <th>OA_LI_C</th>\n",
       "      <td>16.803711</td>\n",
       "      <td>1</td>\n",
       "      <td>99</td>\n",
       "      <td>11.140245</td>\n",
       "      <td>0.0</td>\n",
       "      <td>30.0</td>\n",
       "      <td>6.504095</td>\n",
       "      <td>1.0</td>\n",
       "      <td>25.0</td>\n",
       "    </tr>\n",
       "    <tr>\n",
       "      <th>OA_LI_NC</th>\n",
       "      <td>17.251394</td>\n",
       "      <td>1</td>\n",
       "      <td>99</td>\n",
       "      <td>11.056734</td>\n",
       "      <td>0.0</td>\n",
       "      <td>30.0</td>\n",
       "      <td>6.525450</td>\n",
       "      <td>1.0</td>\n",
       "      <td>25.0</td>\n",
       "    </tr>\n",
       "    <tr>\n",
       "      <th>OA_MI_C</th>\n",
       "      <td>17.798991</td>\n",
       "      <td>1</td>\n",
       "      <td>99</td>\n",
       "      <td>10.832758</td>\n",
       "      <td>0.0</td>\n",
       "      <td>30.0</td>\n",
       "      <td>7.899551</td>\n",
       "      <td>1.0</td>\n",
       "      <td>25.0</td>\n",
       "    </tr>\n",
       "    <tr>\n",
       "      <th>OA_MI_NC</th>\n",
       "      <td>18.231229</td>\n",
       "      <td>1</td>\n",
       "      <td>99</td>\n",
       "      <td>10.680431</td>\n",
       "      <td>0.0</td>\n",
       "      <td>30.0</td>\n",
       "      <td>7.902994</td>\n",
       "      <td>1.0</td>\n",
       "      <td>25.0</td>\n",
       "    </tr>\n",
       "    <tr>\n",
       "      <th>YA_HI_C</th>\n",
       "      <td>19.874054</td>\n",
       "      <td>1</td>\n",
       "      <td>99</td>\n",
       "      <td>10.453990</td>\n",
       "      <td>0.0</td>\n",
       "      <td>30.0</td>\n",
       "      <td>7.785699</td>\n",
       "      <td>1.0</td>\n",
       "      <td>25.0</td>\n",
       "    </tr>\n",
       "    <tr>\n",
       "      <th>YA_HI_NC</th>\n",
       "      <td>19.794021</td>\n",
       "      <td>1</td>\n",
       "      <td>94</td>\n",
       "      <td>10.111481</td>\n",
       "      <td>0.0</td>\n",
       "      <td>30.0</td>\n",
       "      <td>7.682542</td>\n",
       "      <td>1.0</td>\n",
       "      <td>25.0</td>\n",
       "    </tr>\n",
       "    <tr>\n",
       "      <th>YA_LI_C</th>\n",
       "      <td>16.463962</td>\n",
       "      <td>1</td>\n",
       "      <td>99</td>\n",
       "      <td>11.247218</td>\n",
       "      <td>0.0</td>\n",
       "      <td>30.0</td>\n",
       "      <td>6.906021</td>\n",
       "      <td>1.0</td>\n",
       "      <td>25.0</td>\n",
       "    </tr>\n",
       "    <tr>\n",
       "      <th>YA_LI_NC</th>\n",
       "      <td>17.544205</td>\n",
       "      <td>1</td>\n",
       "      <td>99</td>\n",
       "      <td>11.081450</td>\n",
       "      <td>0.0</td>\n",
       "      <td>30.0</td>\n",
       "      <td>6.930367</td>\n",
       "      <td>1.0</td>\n",
       "      <td>25.0</td>\n",
       "    </tr>\n",
       "    <tr>\n",
       "      <th>YA_MI_C</th>\n",
       "      <td>18.046742</td>\n",
       "      <td>1</td>\n",
       "      <td>99</td>\n",
       "      <td>10.729374</td>\n",
       "      <td>0.0</td>\n",
       "      <td>30.0</td>\n",
       "      <td>7.946150</td>\n",
       "      <td>1.0</td>\n",
       "      <td>25.0</td>\n",
       "    </tr>\n",
       "    <tr>\n",
       "      <th>YA_MI_NC</th>\n",
       "      <td>17.749097</td>\n",
       "      <td>1</td>\n",
       "      <td>99</td>\n",
       "      <td>10.871327</td>\n",
       "      <td>0.0</td>\n",
       "      <td>30.0</td>\n",
       "      <td>7.948124</td>\n",
       "      <td>1.0</td>\n",
       "      <td>25.0</td>\n",
       "    </tr>\n",
       "  </tbody>\n",
       "</table>\n",
       "</div>"
      ],
      "text/plain": [
       "         order_number         days_since_prior_order               prices  \\\n",
       "                 mean min max                   mean  min   max      mean   \n",
       "profile                                                                     \n",
       "MA_HI_C     17.968315   1  99              10.707262  0.0  30.0  7.938538   \n",
       "MA_HI_NC    18.401995   1  99              10.523352  0.0  30.0  7.934507   \n",
       "MA_LI_C     16.899787   1  99              11.188045  0.0  30.0  6.637145   \n",
       "MA_LI_NC    16.815688   1  99              11.216042  0.0  30.0  6.597905   \n",
       "MA_MI_C     17.950856   1  99              10.760579  0.0  30.0  7.916403   \n",
       "MA_MI_NC    17.881770   1  99              10.820841  0.0  30.0  7.913241   \n",
       "OA_HI_C     17.872965   1  99              10.736970  0.0  30.0  7.945533   \n",
       "OA_HI_NC    18.432808   1  99              10.630443  0.0  30.0  7.927132   \n",
       "OA_LI_C     16.803711   1  99              11.140245  0.0  30.0  6.504095   \n",
       "OA_LI_NC    17.251394   1  99              11.056734  0.0  30.0  6.525450   \n",
       "OA_MI_C     17.798991   1  99              10.832758  0.0  30.0  7.899551   \n",
       "OA_MI_NC    18.231229   1  99              10.680431  0.0  30.0  7.902994   \n",
       "YA_HI_C     19.874054   1  99              10.453990  0.0  30.0  7.785699   \n",
       "YA_HI_NC    19.794021   1  94              10.111481  0.0  30.0  7.682542   \n",
       "YA_LI_C     16.463962   1  99              11.247218  0.0  30.0  6.906021   \n",
       "YA_LI_NC    17.544205   1  99              11.081450  0.0  30.0  6.930367   \n",
       "YA_MI_C     18.046742   1  99              10.729374  0.0  30.0  7.946150   \n",
       "YA_MI_NC    17.749097   1  99              10.871327  0.0  30.0  7.948124   \n",
       "\n",
       "                     \n",
       "          min   max  \n",
       "profile              \n",
       "MA_HI_C   1.0  25.0  \n",
       "MA_HI_NC  1.0  25.0  \n",
       "MA_LI_C   1.0  25.0  \n",
       "MA_LI_NC  1.0  25.0  \n",
       "MA_MI_C   1.0  25.0  \n",
       "MA_MI_NC  1.0  25.0  \n",
       "OA_HI_C   1.0  25.0  \n",
       "OA_HI_NC  1.0  25.0  \n",
       "OA_LI_C   1.0  25.0  \n",
       "OA_LI_NC  1.0  25.0  \n",
       "OA_MI_C   1.0  25.0  \n",
       "OA_MI_NC  1.0  25.0  \n",
       "YA_HI_C   1.0  25.0  \n",
       "YA_HI_NC  1.0  25.0  \n",
       "YA_LI_C   1.0  25.0  \n",
       "YA_LI_NC  1.0  25.0  \n",
       "YA_MI_C   1.0  25.0  \n",
       "YA_MI_NC  1.0  25.0  "
      ]
     },
     "execution_count": 75,
     "metadata": {},
     "output_type": "execute_result"
    }
   ],
   "source": [
    "# Aggregate max, min, mean for 'order_number', 'days_since_prior_order', and 'prices' variables grouped by 'profile' variable\n",
    "df_high_activity.groupby('profile').agg({'order_number': ['mean', 'min', 'max'], 'days_since_prior_order' : ['mean', 'min', 'max'], 'prices':['mean', 'min', 'max']})"
   ]
  },
  {
   "cell_type": "markdown",
   "id": "e90c9135",
   "metadata": {},
   "source": [
    "#### Observations: 'order_number' average among profile groups ranges from 16-19. 'days_since_prior_order' mean shows that customers order every 10-11 days. 'prices' mean shows that average product price ordered is between 6.50 and 8.00."
   ]
  },
  {
   "cell_type": "markdown",
   "id": "057c3b85",
   "metadata": {},
   "source": [
    "# 10. Task 4.10: (Step 8): Identify Link Between Profile and Regions/Departments"
   ]
  },
  {
   "cell_type": "code",
   "execution_count": 76,
   "id": "b75af762",
   "metadata": {},
   "outputs": [],
   "source": [
    "# Create crosstab between 'profile' and 'region' variables\n",
    "crosstab_profile_regions = pd.crosstab(df_high_activity['profile'], df_high_activity['region'], dropna = False)"
   ]
  },
  {
   "cell_type": "code",
   "execution_count": 77,
   "id": "ef4d3d73",
   "metadata": {},
   "outputs": [
    {
     "data": {
      "text/html": [
       "<div>\n",
       "<style scoped>\n",
       "    .dataframe tbody tr th:only-of-type {\n",
       "        vertical-align: middle;\n",
       "    }\n",
       "\n",
       "    .dataframe tbody tr th {\n",
       "        vertical-align: top;\n",
       "    }\n",
       "\n",
       "    .dataframe thead th {\n",
       "        text-align: right;\n",
       "    }\n",
       "</style>\n",
       "<table border=\"1\" class=\"dataframe\">\n",
       "  <thead>\n",
       "    <tr style=\"text-align: right;\">\n",
       "      <th>region</th>\n",
       "      <th>Midwest</th>\n",
       "      <th>Northeast</th>\n",
       "      <th>South</th>\n",
       "      <th>West</th>\n",
       "    </tr>\n",
       "    <tr>\n",
       "      <th>profile</th>\n",
       "      <th></th>\n",
       "      <th></th>\n",
       "      <th></th>\n",
       "      <th></th>\n",
       "    </tr>\n",
       "  </thead>\n",
       "  <tbody>\n",
       "    <tr>\n",
       "      <th>MA_HI_C</th>\n",
       "      <td>256482</td>\n",
       "      <td>191331</td>\n",
       "      <td>334810</td>\n",
       "      <td>284142</td>\n",
       "    </tr>\n",
       "    <tr>\n",
       "      <th>MA_HI_NC</th>\n",
       "      <td>89175</td>\n",
       "      <td>58557</td>\n",
       "      <td>116601</td>\n",
       "      <td>99746</td>\n",
       "    </tr>\n",
       "    <tr>\n",
       "      <th>MA_LI_C</th>\n",
       "      <td>172299</td>\n",
       "      <td>127936</td>\n",
       "      <td>248836</td>\n",
       "      <td>191884</td>\n",
       "    </tr>\n",
       "    <tr>\n",
       "      <th>MA_LI_NC</th>\n",
       "      <td>55258</td>\n",
       "      <td>42604</td>\n",
       "      <td>85691</td>\n",
       "      <td>56394</td>\n",
       "    </tr>\n",
       "    <tr>\n",
       "      <th>MA_MI_C</th>\n",
       "      <td>1306310</td>\n",
       "      <td>963990</td>\n",
       "      <td>1828614</td>\n",
       "      <td>1394085</td>\n",
       "    </tr>\n",
       "    <tr>\n",
       "      <th>MA_MI_NC</th>\n",
       "      <td>449298</td>\n",
       "      <td>294904</td>\n",
       "      <td>597711</td>\n",
       "      <td>470803</td>\n",
       "    </tr>\n",
       "    <tr>\n",
       "      <th>OA_HI_C</th>\n",
       "      <td>418537</td>\n",
       "      <td>305124</td>\n",
       "      <td>600385</td>\n",
       "      <td>445684</td>\n",
       "    </tr>\n",
       "    <tr>\n",
       "      <th>OA_HI_NC</th>\n",
       "      <td>133615</td>\n",
       "      <td>110372</td>\n",
       "      <td>207592</td>\n",
       "      <td>160410</td>\n",
       "    </tr>\n",
       "    <tr>\n",
       "      <th>OA_LI_C</th>\n",
       "      <td>171046</td>\n",
       "      <td>140221</td>\n",
       "      <td>258201</td>\n",
       "      <td>196107</td>\n",
       "    </tr>\n",
       "    <tr>\n",
       "      <th>OA_LI_NC</th>\n",
       "      <td>58476</td>\n",
       "      <td>44715</td>\n",
       "      <td>86788</td>\n",
       "      <td>61841</td>\n",
       "    </tr>\n",
       "    <tr>\n",
       "      <th>OA_MI_C</th>\n",
       "      <td>1587166</td>\n",
       "      <td>1227530</td>\n",
       "      <td>2251845</td>\n",
       "      <td>1761203</td>\n",
       "    </tr>\n",
       "    <tr>\n",
       "      <th>OA_MI_NC</th>\n",
       "      <td>545440</td>\n",
       "      <td>405927</td>\n",
       "      <td>743654</td>\n",
       "      <td>586419</td>\n",
       "    </tr>\n",
       "    <tr>\n",
       "      <th>YA_HI_C</th>\n",
       "      <td>13371</td>\n",
       "      <td>8176</td>\n",
       "      <td>22985</td>\n",
       "      <td>17034</td>\n",
       "    </tr>\n",
       "    <tr>\n",
       "      <th>YA_HI_NC</th>\n",
       "      <td>5781</td>\n",
       "      <td>4120</td>\n",
       "      <td>7930</td>\n",
       "      <td>2574</td>\n",
       "    </tr>\n",
       "    <tr>\n",
       "      <th>YA_LI_C</th>\n",
       "      <td>247690</td>\n",
       "      <td>164710</td>\n",
       "      <td>346172</td>\n",
       "      <td>250532</td>\n",
       "    </tr>\n",
       "    <tr>\n",
       "      <th>YA_LI_NC</th>\n",
       "      <td>78995</td>\n",
       "      <td>66951</td>\n",
       "      <td>116884</td>\n",
       "      <td>92323</td>\n",
       "    </tr>\n",
       "    <tr>\n",
       "      <th>YA_MI_C</th>\n",
       "      <td>1265796</td>\n",
       "      <td>981185</td>\n",
       "      <td>1837358</td>\n",
       "      <td>1406106</td>\n",
       "    </tr>\n",
       "    <tr>\n",
       "      <th>YA_MI_NC</th>\n",
       "      <td>406778</td>\n",
       "      <td>326332</td>\n",
       "      <td>619082</td>\n",
       "      <td>449940</td>\n",
       "    </tr>\n",
       "  </tbody>\n",
       "</table>\n",
       "</div>"
      ],
      "text/plain": [
       "region    Midwest  Northeast    South     West\n",
       "profile                                       \n",
       "MA_HI_C    256482     191331   334810   284142\n",
       "MA_HI_NC    89175      58557   116601    99746\n",
       "MA_LI_C    172299     127936   248836   191884\n",
       "MA_LI_NC    55258      42604    85691    56394\n",
       "MA_MI_C   1306310     963990  1828614  1394085\n",
       "MA_MI_NC   449298     294904   597711   470803\n",
       "OA_HI_C    418537     305124   600385   445684\n",
       "OA_HI_NC   133615     110372   207592   160410\n",
       "OA_LI_C    171046     140221   258201   196107\n",
       "OA_LI_NC    58476      44715    86788    61841\n",
       "OA_MI_C   1587166    1227530  2251845  1761203\n",
       "OA_MI_NC   545440     405927   743654   586419\n",
       "YA_HI_C     13371       8176    22985    17034\n",
       "YA_HI_NC     5781       4120     7930     2574\n",
       "YA_LI_C    247690     164710   346172   250532\n",
       "YA_LI_NC    78995      66951   116884    92323\n",
       "YA_MI_C   1265796     981185  1837358  1406106\n",
       "YA_MI_NC   406778     326332   619082   449940"
      ]
     },
     "execution_count": 77,
     "metadata": {},
     "output_type": "execute_result"
    }
   ],
   "source": [
    "# View 'profile' by 'region' crosstab\n",
    "crosstab_profile_regions"
   ]
  },
  {
   "cell_type": "code",
   "execution_count": 78,
   "id": "83c93364",
   "metadata": {},
   "outputs": [],
   "source": [
    "# Create crosstab between 'profile' and 'department_id' variables\n",
    "crosstab_profile_department = pd.crosstab(df_high_activity['profile'], df_high_activity['department_id'], dropna = False)"
   ]
  },
  {
   "cell_type": "code",
   "execution_count": 79,
   "id": "139d29d7",
   "metadata": {},
   "outputs": [
    {
     "data": {
      "text/html": [
       "<div>\n",
       "<style scoped>\n",
       "    .dataframe tbody tr th:only-of-type {\n",
       "        vertical-align: middle;\n",
       "    }\n",
       "\n",
       "    .dataframe tbody tr th {\n",
       "        vertical-align: top;\n",
       "    }\n",
       "\n",
       "    .dataframe thead th {\n",
       "        text-align: right;\n",
       "    }\n",
       "</style>\n",
       "<table border=\"1\" class=\"dataframe\">\n",
       "  <thead>\n",
       "    <tr style=\"text-align: right;\">\n",
       "      <th>department_id</th>\n",
       "      <th>1</th>\n",
       "      <th>2</th>\n",
       "      <th>3</th>\n",
       "      <th>4</th>\n",
       "      <th>5</th>\n",
       "      <th>6</th>\n",
       "      <th>7</th>\n",
       "      <th>8</th>\n",
       "      <th>9</th>\n",
       "      <th>10</th>\n",
       "      <th>...</th>\n",
       "      <th>12</th>\n",
       "      <th>13</th>\n",
       "      <th>14</th>\n",
       "      <th>15</th>\n",
       "      <th>16</th>\n",
       "      <th>17</th>\n",
       "      <th>18</th>\n",
       "      <th>19</th>\n",
       "      <th>20</th>\n",
       "      <th>21</th>\n",
       "    </tr>\n",
       "    <tr>\n",
       "      <th>profile</th>\n",
       "      <th></th>\n",
       "      <th></th>\n",
       "      <th></th>\n",
       "      <th></th>\n",
       "      <th></th>\n",
       "      <th></th>\n",
       "      <th></th>\n",
       "      <th></th>\n",
       "      <th></th>\n",
       "      <th></th>\n",
       "      <th></th>\n",
       "      <th></th>\n",
       "      <th></th>\n",
       "      <th></th>\n",
       "      <th></th>\n",
       "      <th></th>\n",
       "      <th></th>\n",
       "      <th></th>\n",
       "      <th></th>\n",
       "      <th></th>\n",
       "      <th></th>\n",
       "    </tr>\n",
       "  </thead>\n",
       "  <tbody>\n",
       "    <tr>\n",
       "      <th>MA_HI_C</th>\n",
       "      <td>74864</td>\n",
       "      <td>1163</td>\n",
       "      <td>40373</td>\n",
       "      <td>314192</td>\n",
       "      <td>5637</td>\n",
       "      <td>9095</td>\n",
       "      <td>85476</td>\n",
       "      <td>3329</td>\n",
       "      <td>29317</td>\n",
       "      <td>954</td>\n",
       "      <td>...</td>\n",
       "      <td>25704</td>\n",
       "      <td>62944</td>\n",
       "      <td>22853</td>\n",
       "      <td>36582</td>\n",
       "      <td>181069</td>\n",
       "      <td>24875</td>\n",
       "      <td>14018</td>\n",
       "      <td>83451</td>\n",
       "      <td>34299</td>\n",
       "      <td>2225</td>\n",
       "    </tr>\n",
       "    <tr>\n",
       "      <th>MA_HI_NC</th>\n",
       "      <td>25279</td>\n",
       "      <td>421</td>\n",
       "      <td>13825</td>\n",
       "      <td>106494</td>\n",
       "      <td>2380</td>\n",
       "      <td>3076</td>\n",
       "      <td>28673</td>\n",
       "      <td>1715</td>\n",
       "      <td>9879</td>\n",
       "      <td>411</td>\n",
       "      <td>...</td>\n",
       "      <td>8294</td>\n",
       "      <td>21962</td>\n",
       "      <td>7675</td>\n",
       "      <td>12391</td>\n",
       "      <td>61394</td>\n",
       "      <td>8566</td>\n",
       "      <td>6094</td>\n",
       "      <td>28339</td>\n",
       "      <td>11650</td>\n",
       "      <td>765</td>\n",
       "    </tr>\n",
       "    <tr>\n",
       "      <th>MA_LI_C</th>\n",
       "      <td>46339</td>\n",
       "      <td>868</td>\n",
       "      <td>24493</td>\n",
       "      <td>184413</td>\n",
       "      <td>4019</td>\n",
       "      <td>4544</td>\n",
       "      <td>84061</td>\n",
       "      <td>1819</td>\n",
       "      <td>14019</td>\n",
       "      <td>1073</td>\n",
       "      <td>...</td>\n",
       "      <td>6934</td>\n",
       "      <td>36014</td>\n",
       "      <td>20220</td>\n",
       "      <td>16929</td>\n",
       "      <td>108540</td>\n",
       "      <td>19126</td>\n",
       "      <td>6348</td>\n",
       "      <td>126690</td>\n",
       "      <td>23059</td>\n",
       "      <td>1500</td>\n",
       "    </tr>\n",
       "    <tr>\n",
       "      <th>MA_LI_NC</th>\n",
       "      <td>14562</td>\n",
       "      <td>324</td>\n",
       "      <td>6815</td>\n",
       "      <td>60269</td>\n",
       "      <td>1422</td>\n",
       "      <td>1506</td>\n",
       "      <td>27416</td>\n",
       "      <td>389</td>\n",
       "      <td>4296</td>\n",
       "      <td>298</td>\n",
       "      <td>...</td>\n",
       "      <td>2200</td>\n",
       "      <td>11644</td>\n",
       "      <td>6634</td>\n",
       "      <td>5485</td>\n",
       "      <td>35708</td>\n",
       "      <td>5662</td>\n",
       "      <td>1612</td>\n",
       "      <td>42230</td>\n",
       "      <td>7620</td>\n",
       "      <td>509</td>\n",
       "    </tr>\n",
       "    <tr>\n",
       "      <th>MA_MI_C</th>\n",
       "      <td>378074</td>\n",
       "      <td>5975</td>\n",
       "      <td>198802</td>\n",
       "      <td>1642372</td>\n",
       "      <td>22909</td>\n",
       "      <td>47101</td>\n",
       "      <td>435597</td>\n",
       "      <td>15871</td>\n",
       "      <td>151456</td>\n",
       "      <td>5845</td>\n",
       "      <td>...</td>\n",
       "      <td>125736</td>\n",
       "      <td>321506</td>\n",
       "      <td>115273</td>\n",
       "      <td>184829</td>\n",
       "      <td>929551</td>\n",
       "      <td>123446</td>\n",
       "      <td>80376</td>\n",
       "      <td>441410</td>\n",
       "      <td>177823</td>\n",
       "      <td>11563</td>\n",
       "    </tr>\n",
       "    <tr>\n",
       "      <th>MA_MI_NC</th>\n",
       "      <td>124679</td>\n",
       "      <td>2024</td>\n",
       "      <td>67174</td>\n",
       "      <td>545062</td>\n",
       "      <td>8536</td>\n",
       "      <td>15631</td>\n",
       "      <td>146687</td>\n",
       "      <td>5374</td>\n",
       "      <td>48932</td>\n",
       "      <td>1792</td>\n",
       "      <td>...</td>\n",
       "      <td>41122</td>\n",
       "      <td>104177</td>\n",
       "      <td>38032</td>\n",
       "      <td>60764</td>\n",
       "      <td>305233</td>\n",
       "      <td>38477</td>\n",
       "      <td>25588</td>\n",
       "      <td>145590</td>\n",
       "      <td>59362</td>\n",
       "      <td>3839</td>\n",
       "    </tr>\n",
       "    <tr>\n",
       "      <th>OA_HI_C</th>\n",
       "      <td>125564</td>\n",
       "      <td>2118</td>\n",
       "      <td>67818</td>\n",
       "      <td>515431</td>\n",
       "      <td>10460</td>\n",
       "      <td>14736</td>\n",
       "      <td>142778</td>\n",
       "      <td>5617</td>\n",
       "      <td>48398</td>\n",
       "      <td>1740</td>\n",
       "      <td>...</td>\n",
       "      <td>42344</td>\n",
       "      <td>105121</td>\n",
       "      <td>38222</td>\n",
       "      <td>60266</td>\n",
       "      <td>297938</td>\n",
       "      <td>41470</td>\n",
       "      <td>24136</td>\n",
       "      <td>139022</td>\n",
       "      <td>58137</td>\n",
       "      <td>3919</td>\n",
       "    </tr>\n",
       "    <tr>\n",
       "      <th>OA_HI_NC</th>\n",
       "      <td>43743</td>\n",
       "      <td>648</td>\n",
       "      <td>22367</td>\n",
       "      <td>182137</td>\n",
       "      <td>3198</td>\n",
       "      <td>5225</td>\n",
       "      <td>48951</td>\n",
       "      <td>1914</td>\n",
       "      <td>16316</td>\n",
       "      <td>555</td>\n",
       "      <td>...</td>\n",
       "      <td>13170</td>\n",
       "      <td>36652</td>\n",
       "      <td>12674</td>\n",
       "      <td>20040</td>\n",
       "      <td>104434</td>\n",
       "      <td>14021</td>\n",
       "      <td>8255</td>\n",
       "      <td>48221</td>\n",
       "      <td>19719</td>\n",
       "      <td>1213</td>\n",
       "    </tr>\n",
       "    <tr>\n",
       "      <th>OA_LI_C</th>\n",
       "      <td>48445</td>\n",
       "      <td>852</td>\n",
       "      <td>23261</td>\n",
       "      <td>183768</td>\n",
       "      <td>4352</td>\n",
       "      <td>4467</td>\n",
       "      <td>94376</td>\n",
       "      <td>1787</td>\n",
       "      <td>13393</td>\n",
       "      <td>1223</td>\n",
       "      <td>...</td>\n",
       "      <td>6186</td>\n",
       "      <td>37063</td>\n",
       "      <td>22035</td>\n",
       "      <td>16510</td>\n",
       "      <td>109335</td>\n",
       "      <td>20833</td>\n",
       "      <td>5753</td>\n",
       "      <td>136070</td>\n",
       "      <td>23551</td>\n",
       "      <td>1377</td>\n",
       "    </tr>\n",
       "    <tr>\n",
       "      <th>OA_LI_NC</th>\n",
       "      <td>16477</td>\n",
       "      <td>235</td>\n",
       "      <td>7751</td>\n",
       "      <td>59071</td>\n",
       "      <td>1297</td>\n",
       "      <td>1423</td>\n",
       "      <td>30526</td>\n",
       "      <td>591</td>\n",
       "      <td>4624</td>\n",
       "      <td>297</td>\n",
       "      <td>...</td>\n",
       "      <td>2122</td>\n",
       "      <td>12171</td>\n",
       "      <td>6981</td>\n",
       "      <td>5366</td>\n",
       "      <td>37794</td>\n",
       "      <td>6667</td>\n",
       "      <td>1547</td>\n",
       "      <td>44402</td>\n",
       "      <td>8195</td>\n",
       "      <td>476</td>\n",
       "    </tr>\n",
       "    <tr>\n",
       "      <th>OA_MI_C</th>\n",
       "      <td>468444</td>\n",
       "      <td>7316</td>\n",
       "      <td>247605</td>\n",
       "      <td>2046620</td>\n",
       "      <td>28281</td>\n",
       "      <td>57276</td>\n",
       "      <td>548117</td>\n",
       "      <td>21390</td>\n",
       "      <td>186759</td>\n",
       "      <td>7321</td>\n",
       "      <td>...</td>\n",
       "      <td>158774</td>\n",
       "      <td>398661</td>\n",
       "      <td>141364</td>\n",
       "      <td>230174</td>\n",
       "      <td>1149260</td>\n",
       "      <td>152018</td>\n",
       "      <td>92256</td>\n",
       "      <td>558492</td>\n",
       "      <td>220961</td>\n",
       "      <td>14310</td>\n",
       "    </tr>\n",
       "    <tr>\n",
       "      <th>OA_MI_NC</th>\n",
       "      <td>158224</td>\n",
       "      <td>2521</td>\n",
       "      <td>83513</td>\n",
       "      <td>684050</td>\n",
       "      <td>9751</td>\n",
       "      <td>18998</td>\n",
       "      <td>181853</td>\n",
       "      <td>6836</td>\n",
       "      <td>62166</td>\n",
       "      <td>2318</td>\n",
       "      <td>...</td>\n",
       "      <td>52803</td>\n",
       "      <td>131943</td>\n",
       "      <td>47470</td>\n",
       "      <td>75559</td>\n",
       "      <td>385400</td>\n",
       "      <td>48743</td>\n",
       "      <td>30944</td>\n",
       "      <td>187501</td>\n",
       "      <td>75595</td>\n",
       "      <td>4326</td>\n",
       "    </tr>\n",
       "    <tr>\n",
       "      <th>YA_HI_C</th>\n",
       "      <td>5444</td>\n",
       "      <td>167</td>\n",
       "      <td>2897</td>\n",
       "      <td>12106</td>\n",
       "      <td>1848</td>\n",
       "      <td>551</td>\n",
       "      <td>5466</td>\n",
       "      <td>313</td>\n",
       "      <td>1882</td>\n",
       "      <td>9</td>\n",
       "      <td>...</td>\n",
       "      <td>1507</td>\n",
       "      <td>3889</td>\n",
       "      <td>1509</td>\n",
       "      <td>2334</td>\n",
       "      <td>10874</td>\n",
       "      <td>2504</td>\n",
       "      <td>378</td>\n",
       "      <td>5159</td>\n",
       "      <td>1559</td>\n",
       "      <td>90</td>\n",
       "    </tr>\n",
       "    <tr>\n",
       "      <th>YA_HI_NC</th>\n",
       "      <td>1447</td>\n",
       "      <td>37</td>\n",
       "      <td>1150</td>\n",
       "      <td>4130</td>\n",
       "      <td>544</td>\n",
       "      <td>139</td>\n",
       "      <td>1981</td>\n",
       "      <td>103</td>\n",
       "      <td>543</td>\n",
       "      <td>2</td>\n",
       "      <td>...</td>\n",
       "      <td>495</td>\n",
       "      <td>1347</td>\n",
       "      <td>485</td>\n",
       "      <td>776</td>\n",
       "      <td>3440</td>\n",
       "      <td>1238</td>\n",
       "      <td>120</td>\n",
       "      <td>1587</td>\n",
       "      <td>522</td>\n",
       "      <td>41</td>\n",
       "    </tr>\n",
       "    <tr>\n",
       "      <th>YA_LI_C</th>\n",
       "      <td>66257</td>\n",
       "      <td>1063</td>\n",
       "      <td>32503</td>\n",
       "      <td>251101</td>\n",
       "      <td>5354</td>\n",
       "      <td>7070</td>\n",
       "      <td>108851</td>\n",
       "      <td>2780</td>\n",
       "      <td>20469</td>\n",
       "      <td>1334</td>\n",
       "      <td>...</td>\n",
       "      <td>12397</td>\n",
       "      <td>51158</td>\n",
       "      <td>26352</td>\n",
       "      <td>25576</td>\n",
       "      <td>155225</td>\n",
       "      <td>25763</td>\n",
       "      <td>9835</td>\n",
       "      <td>157064</td>\n",
       "      <td>32506</td>\n",
       "      <td>1935</td>\n",
       "    </tr>\n",
       "    <tr>\n",
       "      <th>YA_LI_NC</th>\n",
       "      <td>23097</td>\n",
       "      <td>544</td>\n",
       "      <td>11934</td>\n",
       "      <td>87692</td>\n",
       "      <td>1603</td>\n",
       "      <td>2626</td>\n",
       "      <td>37891</td>\n",
       "      <td>1246</td>\n",
       "      <td>7680</td>\n",
       "      <td>451</td>\n",
       "      <td>...</td>\n",
       "      <td>4439</td>\n",
       "      <td>18011</td>\n",
       "      <td>9186</td>\n",
       "      <td>9109</td>\n",
       "      <td>55761</td>\n",
       "      <td>9165</td>\n",
       "      <td>4145</td>\n",
       "      <td>53073</td>\n",
       "      <td>11517</td>\n",
       "      <td>750</td>\n",
       "    </tr>\n",
       "    <tr>\n",
       "      <th>YA_MI_C</th>\n",
       "      <td>378952</td>\n",
       "      <td>6175</td>\n",
       "      <td>201681</td>\n",
       "      <td>1653829</td>\n",
       "      <td>24940</td>\n",
       "      <td>46690</td>\n",
       "      <td>421838</td>\n",
       "      <td>16552</td>\n",
       "      <td>152147</td>\n",
       "      <td>5952</td>\n",
       "      <td>...</td>\n",
       "      <td>129321</td>\n",
       "      <td>322445</td>\n",
       "      <td>116590</td>\n",
       "      <td>187854</td>\n",
       "      <td>941014</td>\n",
       "      <td>118464</td>\n",
       "      <td>73964</td>\n",
       "      <td>428610</td>\n",
       "      <td>178557</td>\n",
       "      <td>11914</td>\n",
       "    </tr>\n",
       "    <tr>\n",
       "      <th>YA_MI_NC</th>\n",
       "      <td>121840</td>\n",
       "      <td>1960</td>\n",
       "      <td>66866</td>\n",
       "      <td>546536</td>\n",
       "      <td>8096</td>\n",
       "      <td>15837</td>\n",
       "      <td>141363</td>\n",
       "      <td>5434</td>\n",
       "      <td>49860</td>\n",
       "      <td>1876</td>\n",
       "      <td>...</td>\n",
       "      <td>41233</td>\n",
       "      <td>105997</td>\n",
       "      <td>37295</td>\n",
       "      <td>61530</td>\n",
       "      <td>305212</td>\n",
       "      <td>38819</td>\n",
       "      <td>25023</td>\n",
       "      <td>139495</td>\n",
       "      <td>59202</td>\n",
       "      <td>4016</td>\n",
       "    </tr>\n",
       "  </tbody>\n",
       "</table>\n",
       "<p>18 rows × 21 columns</p>\n",
       "</div>"
      ],
      "text/plain": [
       "department_id      1     2       3        4      5      6       7      8   \\\n",
       "profile                                                                     \n",
       "MA_HI_C         74864  1163   40373   314192   5637   9095   85476   3329   \n",
       "MA_HI_NC        25279   421   13825   106494   2380   3076   28673   1715   \n",
       "MA_LI_C         46339   868   24493   184413   4019   4544   84061   1819   \n",
       "MA_LI_NC        14562   324    6815    60269   1422   1506   27416    389   \n",
       "MA_MI_C        378074  5975  198802  1642372  22909  47101  435597  15871   \n",
       "MA_MI_NC       124679  2024   67174   545062   8536  15631  146687   5374   \n",
       "OA_HI_C        125564  2118   67818   515431  10460  14736  142778   5617   \n",
       "OA_HI_NC        43743   648   22367   182137   3198   5225   48951   1914   \n",
       "OA_LI_C         48445   852   23261   183768   4352   4467   94376   1787   \n",
       "OA_LI_NC        16477   235    7751    59071   1297   1423   30526    591   \n",
       "OA_MI_C        468444  7316  247605  2046620  28281  57276  548117  21390   \n",
       "OA_MI_NC       158224  2521   83513   684050   9751  18998  181853   6836   \n",
       "YA_HI_C          5444   167    2897    12106   1848    551    5466    313   \n",
       "YA_HI_NC         1447    37    1150     4130    544    139    1981    103   \n",
       "YA_LI_C         66257  1063   32503   251101   5354   7070  108851   2780   \n",
       "YA_LI_NC        23097   544   11934    87692   1603   2626   37891   1246   \n",
       "YA_MI_C        378952  6175  201681  1653829  24940  46690  421838  16552   \n",
       "YA_MI_NC       121840  1960   66866   546536   8096  15837  141363   5434   \n",
       "\n",
       "department_id      9     10  ...      12      13      14      15       16  \\\n",
       "profile                      ...                                            \n",
       "MA_HI_C         29317   954  ...   25704   62944   22853   36582   181069   \n",
       "MA_HI_NC         9879   411  ...    8294   21962    7675   12391    61394   \n",
       "MA_LI_C         14019  1073  ...    6934   36014   20220   16929   108540   \n",
       "MA_LI_NC         4296   298  ...    2200   11644    6634    5485    35708   \n",
       "MA_MI_C        151456  5845  ...  125736  321506  115273  184829   929551   \n",
       "MA_MI_NC        48932  1792  ...   41122  104177   38032   60764   305233   \n",
       "OA_HI_C         48398  1740  ...   42344  105121   38222   60266   297938   \n",
       "OA_HI_NC        16316   555  ...   13170   36652   12674   20040   104434   \n",
       "OA_LI_C         13393  1223  ...    6186   37063   22035   16510   109335   \n",
       "OA_LI_NC         4624   297  ...    2122   12171    6981    5366    37794   \n",
       "OA_MI_C        186759  7321  ...  158774  398661  141364  230174  1149260   \n",
       "OA_MI_NC        62166  2318  ...   52803  131943   47470   75559   385400   \n",
       "YA_HI_C          1882     9  ...    1507    3889    1509    2334    10874   \n",
       "YA_HI_NC          543     2  ...     495    1347     485     776     3440   \n",
       "YA_LI_C         20469  1334  ...   12397   51158   26352   25576   155225   \n",
       "YA_LI_NC         7680   451  ...    4439   18011    9186    9109    55761   \n",
       "YA_MI_C        152147  5952  ...  129321  322445  116590  187854   941014   \n",
       "YA_MI_NC        49860  1876  ...   41233  105997   37295   61530   305212   \n",
       "\n",
       "department_id      17     18      19      20     21  \n",
       "profile                                              \n",
       "MA_HI_C         24875  14018   83451   34299   2225  \n",
       "MA_HI_NC         8566   6094   28339   11650    765  \n",
       "MA_LI_C         19126   6348  126690   23059   1500  \n",
       "MA_LI_NC         5662   1612   42230    7620    509  \n",
       "MA_MI_C        123446  80376  441410  177823  11563  \n",
       "MA_MI_NC        38477  25588  145590   59362   3839  \n",
       "OA_HI_C         41470  24136  139022   58137   3919  \n",
       "OA_HI_NC        14021   8255   48221   19719   1213  \n",
       "OA_LI_C         20833   5753  136070   23551   1377  \n",
       "OA_LI_NC         6667   1547   44402    8195    476  \n",
       "OA_MI_C        152018  92256  558492  220961  14310  \n",
       "OA_MI_NC        48743  30944  187501   75595   4326  \n",
       "YA_HI_C          2504    378    5159    1559     90  \n",
       "YA_HI_NC         1238    120    1587     522     41  \n",
       "YA_LI_C         25763   9835  157064   32506   1935  \n",
       "YA_LI_NC         9165   4145   53073   11517    750  \n",
       "YA_MI_C        118464  73964  428610  178557  11914  \n",
       "YA_MI_NC        38819  25023  139495   59202   4016  \n",
       "\n",
       "[18 rows x 21 columns]"
      ]
     },
     "execution_count": 79,
     "metadata": {},
     "output_type": "execute_result"
    }
   ],
   "source": [
    "# View 'profile' by 'department_id' crosstab\n",
    "crosstab_profile_department"
   ]
  },
  {
   "cell_type": "code",
   "execution_count": 80,
   "id": "267779b7",
   "metadata": {},
   "outputs": [],
   "source": [
    "# Copy to clipboard to visualize in Excel\n",
    "crosstab_profile_regions.to_clipboard()"
   ]
  },
  {
   "cell_type": "code",
   "execution_count": 81,
   "id": "84149f7b",
   "metadata": {},
   "outputs": [],
   "source": [
    "# Copy to clipboard to visualize in Excel\n",
    "crosstab_profile_department.to_clipboard()"
   ]
  },
  {
   "cell_type": "markdown",
   "id": "b0fd6fc0",
   "metadata": {},
   "source": [
    "# 11. Task 4.10 (Step 9): Additional Groupings and Visualizations"
   ]
  },
  {
   "cell_type": "code",
   "execution_count": 82,
   "id": "50bff803",
   "metadata": {},
   "outputs": [],
   "source": [
    "# Group 'order_hour_of_day' according to sum of 'prices'\n",
    "df_order_hour_prices = df_high_activity.groupby('order_hour_of_day')['prices'].sum()"
   ]
  },
  {
   "cell_type": "code",
   "execution_count": 83,
   "id": "b7d43974",
   "metadata": {},
   "outputs": [
    {
     "data": {
      "text/plain": [
       "order_hour_of_day\n",
       "0      1625063.24\n",
       "1       855679.44\n",
       "2       512580.26\n",
       "3       382004.78\n",
       "4       398038.10\n",
       "5       661010.93\n",
       "6      2197252.17\n",
       "7      6750966.43\n",
       "8     12923237.06\n",
       "9     18321118.06\n",
       "10    20528912.13\n",
       "11    20316356.70\n",
       "12    19440476.93\n",
       "13    19786620.17\n",
       "14    20034151.44\n",
       "15    19792452.06\n",
       "16    18829811.63\n",
       "17    15474871.28\n",
       "18    12112022.50\n",
       "19     9304671.53\n",
       "20     7260742.33\n",
       "21     5956121.98\n",
       "22     4744890.47\n",
       "23     2998009.71\n",
       "Name: prices, dtype: float64"
      ]
     },
     "execution_count": 83,
     "metadata": {},
     "output_type": "execute_result"
    }
   ],
   "source": [
    "# View aggregation\n",
    "df_order_hour_prices"
   ]
  },
  {
   "cell_type": "code",
   "execution_count": 84,
   "id": "00c09181",
   "metadata": {},
   "outputs": [],
   "source": [
    "# Copy to clipboard to create chart in Excel\n",
    "df_order_hour_prices.to_clipboard()"
   ]
  },
  {
   "cell_type": "code",
   "execution_count": 85,
   "id": "00f2b02d",
   "metadata": {},
   "outputs": [],
   "source": [
    "# Group 'orders_day_of_week' according to sum of \"prices\"\n",
    "df_day_of_week_prices = df_high_activity.groupby('orders_day_of_week')['prices'].sum()"
   ]
  },
  {
   "cell_type": "code",
   "execution_count": 86,
   "id": "7f3241ab",
   "metadata": {},
   "outputs": [],
   "source": [
    "# Copy to clipboard to create chart in Excel\n",
    "df_day_of_week_prices.to_clipboard()"
   ]
  },
  {
   "cell_type": "code",
   "execution_count": 87,
   "id": "6bb7f952",
   "metadata": {},
   "outputs": [],
   "source": [
    "# Create crosstab for 'department_id' and 'price_range_loc'\n",
    "crosstab_department_price_range = pd.crosstab(df_high_activity['department_id'], df_high_activity['price_range_loc'], dropna = False)"
   ]
  },
  {
   "cell_type": "code",
   "execution_count": 88,
   "id": "019d46a7",
   "metadata": {},
   "outputs": [
    {
     "data": {
      "text/html": [
       "<div>\n",
       "<style scoped>\n",
       "    .dataframe tbody tr th:only-of-type {\n",
       "        vertical-align: middle;\n",
       "    }\n",
       "\n",
       "    .dataframe tbody tr th {\n",
       "        vertical-align: top;\n",
       "    }\n",
       "\n",
       "    .dataframe thead th {\n",
       "        text-align: right;\n",
       "    }\n",
       "</style>\n",
       "<table border=\"1\" class=\"dataframe\">\n",
       "  <thead>\n",
       "    <tr style=\"text-align: right;\">\n",
       "      <th>price_range_loc</th>\n",
       "      <th>High-range product</th>\n",
       "      <th>Low-range product</th>\n",
       "      <th>Mid-range product</th>\n",
       "    </tr>\n",
       "    <tr>\n",
       "      <th>department_id</th>\n",
       "      <th></th>\n",
       "      <th></th>\n",
       "      <th></th>\n",
       "    </tr>\n",
       "  </thead>\n",
       "  <tbody>\n",
       "    <tr>\n",
       "      <th>1</th>\n",
       "      <td>0</td>\n",
       "      <td>647617</td>\n",
       "      <td>1474114</td>\n",
       "    </tr>\n",
       "    <tr>\n",
       "      <th>2</th>\n",
       "      <td>0</td>\n",
       "      <td>15259</td>\n",
       "      <td>19152</td>\n",
       "    </tr>\n",
       "    <tr>\n",
       "      <th>3</th>\n",
       "      <td>0</td>\n",
       "      <td>274986</td>\n",
       "      <td>845842</td>\n",
       "    </tr>\n",
       "    <tr>\n",
       "      <th>4</th>\n",
       "      <td>0</td>\n",
       "      <td>2585708</td>\n",
       "      <td>6493565</td>\n",
       "    </tr>\n",
       "    <tr>\n",
       "      <th>5</th>\n",
       "      <td>0</td>\n",
       "      <td>33046</td>\n",
       "      <td>111581</td>\n",
       "    </tr>\n",
       "    <tr>\n",
       "      <th>6</th>\n",
       "      <td>0</td>\n",
       "      <td>73203</td>\n",
       "      <td>182788</td>\n",
       "    </tr>\n",
       "    <tr>\n",
       "      <th>7</th>\n",
       "      <td>0</td>\n",
       "      <td>814697</td>\n",
       "      <td>1757204</td>\n",
       "    </tr>\n",
       "    <tr>\n",
       "      <th>8</th>\n",
       "      <td>0</td>\n",
       "      <td>28165</td>\n",
       "      <td>64895</td>\n",
       "    </tr>\n",
       "    <tr>\n",
       "      <th>9</th>\n",
       "      <td>0</td>\n",
       "      <td>284346</td>\n",
       "      <td>537790</td>\n",
       "    </tr>\n",
       "    <tr>\n",
       "      <th>10</th>\n",
       "      <td>0</td>\n",
       "      <td>1181</td>\n",
       "      <td>32270</td>\n",
       "    </tr>\n",
       "    <tr>\n",
       "      <th>11</th>\n",
       "      <td>0</td>\n",
       "      <td>123874</td>\n",
       "      <td>300432</td>\n",
       "    </tr>\n",
       "    <tr>\n",
       "      <th>12</th>\n",
       "      <td>392855</td>\n",
       "      <td>0</td>\n",
       "      <td>281926</td>\n",
       "    </tr>\n",
       "    <tr>\n",
       "      <th>13</th>\n",
       "      <td>221</td>\n",
       "      <td>504521</td>\n",
       "      <td>1277963</td>\n",
       "    </tr>\n",
       "    <tr>\n",
       "      <th>14</th>\n",
       "      <td>0</td>\n",
       "      <td>209185</td>\n",
       "      <td>461665</td>\n",
       "    </tr>\n",
       "    <tr>\n",
       "      <th>15</th>\n",
       "      <td>0</td>\n",
       "      <td>281711</td>\n",
       "      <td>730363</td>\n",
       "    </tr>\n",
       "    <tr>\n",
       "      <th>16</th>\n",
       "      <td>0</td>\n",
       "      <td>1375131</td>\n",
       "      <td>3802051</td>\n",
       "    </tr>\n",
       "    <tr>\n",
       "      <th>17</th>\n",
       "      <td>0</td>\n",
       "      <td>245070</td>\n",
       "      <td>454787</td>\n",
       "    </tr>\n",
       "    <tr>\n",
       "      <th>18</th>\n",
       "      <td>0</td>\n",
       "      <td>121484</td>\n",
       "      <td>288908</td>\n",
       "    </tr>\n",
       "    <tr>\n",
       "      <th>19</th>\n",
       "      <td>0</td>\n",
       "      <td>1742143</td>\n",
       "      <td>1024263</td>\n",
       "    </tr>\n",
       "    <tr>\n",
       "      <th>20</th>\n",
       "      <td>0</td>\n",
       "      <td>299220</td>\n",
       "      <td>704614</td>\n",
       "    </tr>\n",
       "    <tr>\n",
       "      <th>21</th>\n",
       "      <td>0</td>\n",
       "      <td>18516</td>\n",
       "      <td>46252</td>\n",
       "    </tr>\n",
       "  </tbody>\n",
       "</table>\n",
       "</div>"
      ],
      "text/plain": [
       "price_range_loc  High-range product  Low-range product  Mid-range product\n",
       "department_id                                                            \n",
       "1                                 0             647617            1474114\n",
       "2                                 0              15259              19152\n",
       "3                                 0             274986             845842\n",
       "4                                 0            2585708            6493565\n",
       "5                                 0              33046             111581\n",
       "6                                 0              73203             182788\n",
       "7                                 0             814697            1757204\n",
       "8                                 0              28165              64895\n",
       "9                                 0             284346             537790\n",
       "10                                0               1181              32270\n",
       "11                                0             123874             300432\n",
       "12                           392855                  0             281926\n",
       "13                              221             504521            1277963\n",
       "14                                0             209185             461665\n",
       "15                                0             281711             730363\n",
       "16                                0            1375131            3802051\n",
       "17                                0             245070             454787\n",
       "18                                0             121484             288908\n",
       "19                                0            1742143            1024263\n",
       "20                                0             299220             704614\n",
       "21                                0              18516              46252"
      ]
     },
     "execution_count": 88,
     "metadata": {},
     "output_type": "execute_result"
    }
   ],
   "source": [
    "# View crosstab\n",
    "crosstab_department_price_range"
   ]
  },
  {
   "cell_type": "code",
   "execution_count": 89,
   "id": "61f74b1d",
   "metadata": {},
   "outputs": [],
   "source": [
    "# Copy to clipboard to create chart in Excel\n",
    "crosstab_department_price_range.to_clipboard()"
   ]
  },
  {
   "cell_type": "code",
   "execution_count": 90,
   "id": "fe074aa7",
   "metadata": {
    "scrolled": true
   },
   "outputs": [
    {
     "data": {
      "image/png": "[encoded data removed]",
      "text/plain": [
       "<Figure size 640x480 with 1 Axes>"
      ]
     },
     "metadata": {},
     "output_type": "display_data"
    }
   ],
   "source": [
    "# Create bar chart for 'department_id'\n",
    "department_bar = df_high_activity['department_id'].value_counts().plot.bar()"
   ]
  },
  {
   "cell_type": "markdown",
   "id": "a5d9520a",
   "metadata": {},
   "source": [
    "#### Oberservations: Produce (4) and Dairy/Eggs (16) have highest frequency of product orders."
   ]
  },
  {
   "cell_type": "code",
   "execution_count": 91,
   "id": "12940f46",
   "metadata": {
    "scrolled": true
   },
   "outputs": [
    {
     "data": {
      "text/html": [
       "<div>\n",
       "<style scoped>\n",
       "    .dataframe tbody tr th:only-of-type {\n",
       "        vertical-align: middle;\n",
       "    }\n",
       "\n",
       "    .dataframe tbody tr th {\n",
       "        vertical-align: top;\n",
       "    }\n",
       "\n",
       "    .dataframe thead tr th {\n",
       "        text-align: left;\n",
       "    }\n",
       "\n",
       "    .dataframe thead tr:last-of-type th {\n",
       "        text-align: right;\n",
       "    }\n",
       "</style>\n",
       "<table border=\"1\" class=\"dataframe\">\n",
       "  <thead>\n",
       "    <tr>\n",
       "      <th></th>\n",
       "      <th>days_since_prior_order</th>\n",
       "    </tr>\n",
       "    <tr>\n",
       "      <th></th>\n",
       "      <th>mean</th>\n",
       "    </tr>\n",
       "    <tr>\n",
       "      <th>loyalty_flag</th>\n",
       "      <th></th>\n",
       "    </tr>\n",
       "  </thead>\n",
       "  <tbody>\n",
       "    <tr>\n",
       "      <th>Loyal Customer</th>\n",
       "      <td>6.026656</td>\n",
       "    </tr>\n",
       "    <tr>\n",
       "      <th>New Customer</th>\n",
       "      <td>17.598691</td>\n",
       "    </tr>\n",
       "    <tr>\n",
       "      <th>Regular Customer</th>\n",
       "      <td>12.155135</td>\n",
       "    </tr>\n",
       "  </tbody>\n",
       "</table>\n",
       "</div>"
      ],
      "text/plain": [
       "                 days_since_prior_order\n",
       "                                   mean\n",
       "loyalty_flag                           \n",
       "Loyal Customer                 6.026656\n",
       "New Customer                  17.598691\n",
       "Regular Customer              12.155135"
      ]
     },
     "execution_count": 91,
     "metadata": {},
     "output_type": "execute_result"
    }
   ],
   "source": [
    "# Calculate mean for 'days_since_prior_order' grouped by 'loyalty_flag'\n",
    "df_high_activity.groupby('loyalty_flag').agg({'days_since_prior_order': ['mean']})"
   ]
  },
  {
   "cell_type": "markdown",
   "id": "e7c79dda",
   "metadata": {},
   "source": [
    "#### Observations: Loyal Customers order every 6, but New Customers only order every 18 days."
   ]
  },
  {
   "cell_type": "code",
   "execution_count": 92,
   "id": "eae85162",
   "metadata": {},
   "outputs": [],
   "source": [
    "# Create crosstab between 'orders_day_of_week' and 'region' variables\n",
    "region_orders_day = pd.crosstab(df_high_activity['orders_day_of_week'], df_high_activity['region'], dropna = False)"
   ]
  },
  {
   "cell_type": "code",
   "execution_count": 93,
   "id": "2c3a87ee",
   "metadata": {},
   "outputs": [],
   "source": [
    "# Copy to clipboard to create chart in Excel\n",
    "region_orders_day.to_clipboard()"
   ]
  },
  {
   "cell_type": "code",
   "execution_count": 94,
   "id": "c73bf316",
   "metadata": {},
   "outputs": [],
   "source": [
    "# Create crosstab between 'income-range' and 'region' variables\n",
    "income_range_region = pd.crosstab(df_high_activity['income_range'], df_high_activity['region'], dropna = False)"
   ]
  },
  {
   "cell_type": "code",
   "execution_count": 95,
   "id": "2315afd8",
   "metadata": {},
   "outputs": [],
   "source": [
    "# Copy to clipboard to create chart in Excel\n",
    "income_range_region.to_clipboard()"
   ]
  },
  {
   "cell_type": "code",
   "execution_count": 96,
   "id": "2c3e2255",
   "metadata": {},
   "outputs": [],
   "source": [
    "# Create crosstab between 'department_id' and 'region' variables\n",
    "region_department_id = pd.crosstab(df_high_activity['department_id'], df_high_activity['region'], dropna = False)"
   ]
  },
  {
   "cell_type": "code",
   "execution_count": 97,
   "id": "0d1c8ed2",
   "metadata": {},
   "outputs": [],
   "source": [
    "# Copy to clipboard to create chart in Excel\n",
    "region_department_id.to_clipboard()"
   ]
  },
  {
   "cell_type": "code",
   "execution_count": 98,
   "id": "f9d5c445",
   "metadata": {},
   "outputs": [],
   "source": [
    "# Create crosstab between 'child_status' and 'region' variables\n",
    "child_status_region = pd.crosstab(df_high_activity['child_status'], df_high_activity['region'], dropna = False)"
   ]
  },
  {
   "cell_type": "code",
   "execution_count": 99,
   "id": "32354aef",
   "metadata": {},
   "outputs": [],
   "source": [
    "# Copy to clipboard to create chart in Excel\n",
    "child_status_region.to_clipboard()"
   ]
  },
  {
   "cell_type": "code",
   "execution_count": 100,
   "id": "c1c068a1",
   "metadata": {},
   "outputs": [],
   "source": [
    "# Calculate revenue by 'region'\n",
    "region_prices = df_high_activity.groupby('region')['prices'].sum()"
   ]
  },
  {
   "cell_type": "code",
   "execution_count": 101,
   "id": "57960630",
   "metadata": {},
   "outputs": [],
   "source": [
    "# Copy to clipboard to create chart in Excel\n",
    "region_prices.to_clipboard()"
   ]
  },
  {
   "cell_type": "code",
   "execution_count": 109,
   "id": "31ac7766",
   "metadata": {},
   "outputs": [
    {
     "data": {
      "text/html": [
       "<div>\n",
       "<style scoped>\n",
       "    .dataframe tbody tr th:only-of-type {\n",
       "        vertical-align: middle;\n",
       "    }\n",
       "\n",
       "    .dataframe tbody tr th {\n",
       "        vertical-align: top;\n",
       "    }\n",
       "\n",
       "    .dataframe thead tr th {\n",
       "        text-align: left;\n",
       "    }\n",
       "\n",
       "    .dataframe thead tr:last-of-type th {\n",
       "        text-align: right;\n",
       "    }\n",
       "</style>\n",
       "<table border=\"1\" class=\"dataframe\">\n",
       "  <thead>\n",
       "    <tr>\n",
       "      <th></th>\n",
       "      <th>days_since_prior_order</th>\n",
       "    </tr>\n",
       "    <tr>\n",
       "      <th></th>\n",
       "      <th>mean</th>\n",
       "    </tr>\n",
       "    <tr>\n",
       "      <th>profile</th>\n",
       "      <th></th>\n",
       "    </tr>\n",
       "  </thead>\n",
       "  <tbody>\n",
       "    <tr>\n",
       "      <th>MA_HI_C</th>\n",
       "      <td>10.707262</td>\n",
       "    </tr>\n",
       "    <tr>\n",
       "      <th>MA_HI_NC</th>\n",
       "      <td>10.523352</td>\n",
       "    </tr>\n",
       "    <tr>\n",
       "      <th>MA_LI_C</th>\n",
       "      <td>11.188045</td>\n",
       "    </tr>\n",
       "    <tr>\n",
       "      <th>MA_LI_NC</th>\n",
       "      <td>11.216042</td>\n",
       "    </tr>\n",
       "    <tr>\n",
       "      <th>MA_MI_C</th>\n",
       "      <td>10.760579</td>\n",
       "    </tr>\n",
       "    <tr>\n",
       "      <th>MA_MI_NC</th>\n",
       "      <td>10.820841</td>\n",
       "    </tr>\n",
       "    <tr>\n",
       "      <th>OA_HI_C</th>\n",
       "      <td>10.736970</td>\n",
       "    </tr>\n",
       "    <tr>\n",
       "      <th>OA_HI_NC</th>\n",
       "      <td>10.630443</td>\n",
       "    </tr>\n",
       "    <tr>\n",
       "      <th>OA_LI_C</th>\n",
       "      <td>11.140245</td>\n",
       "    </tr>\n",
       "    <tr>\n",
       "      <th>OA_LI_NC</th>\n",
       "      <td>11.056734</td>\n",
       "    </tr>\n",
       "    <tr>\n",
       "      <th>OA_MI_C</th>\n",
       "      <td>10.832758</td>\n",
       "    </tr>\n",
       "    <tr>\n",
       "      <th>OA_MI_NC</th>\n",
       "      <td>10.680431</td>\n",
       "    </tr>\n",
       "    <tr>\n",
       "      <th>YA_HI_C</th>\n",
       "      <td>10.453990</td>\n",
       "    </tr>\n",
       "    <tr>\n",
       "      <th>YA_HI_NC</th>\n",
       "      <td>10.111481</td>\n",
       "    </tr>\n",
       "    <tr>\n",
       "      <th>YA_LI_C</th>\n",
       "      <td>11.247218</td>\n",
       "    </tr>\n",
       "    <tr>\n",
       "      <th>YA_LI_NC</th>\n",
       "      <td>11.081450</td>\n",
       "    </tr>\n",
       "    <tr>\n",
       "      <th>YA_MI_C</th>\n",
       "      <td>10.729374</td>\n",
       "    </tr>\n",
       "    <tr>\n",
       "      <th>YA_MI_NC</th>\n",
       "      <td>10.871327</td>\n",
       "    </tr>\n",
       "  </tbody>\n",
       "</table>\n",
       "</div>"
      ],
      "text/plain": [
       "         days_since_prior_order\n",
       "                           mean\n",
       "profile                        \n",
       "MA_HI_C               10.707262\n",
       "MA_HI_NC              10.523352\n",
       "MA_LI_C               11.188045\n",
       "MA_LI_NC              11.216042\n",
       "MA_MI_C               10.760579\n",
       "MA_MI_NC              10.820841\n",
       "OA_HI_C               10.736970\n",
       "OA_HI_NC              10.630443\n",
       "OA_LI_C               11.140245\n",
       "OA_LI_NC              11.056734\n",
       "OA_MI_C               10.832758\n",
       "OA_MI_NC              10.680431\n",
       "YA_HI_C               10.453990\n",
       "YA_HI_NC              10.111481\n",
       "YA_LI_C               11.247218\n",
       "YA_LI_NC              11.081450\n",
       "YA_MI_C               10.729374\n",
       "YA_MI_NC              10.871327"
      ]
     },
     "execution_count": 109,
     "metadata": {},
     "output_type": "execute_result"
    }
   ],
   "source": [
    "# Calculate 'days_since_prior_order' mean by 'profile'\n",
    "df_high_activity.groupby('profile').agg({'days_since_prior_order': ['mean']})"
   ]
  },
  {
   "cell_type": "markdown",
   "id": "7644add5",
   "metadata": {},
   "source": [
    "#### Observations: There is not a significant difference among profiles for ordering frequency."
   ]
  },
  {
   "cell_type": "code",
   "execution_count": 106,
   "id": "fa5ca161",
   "metadata": {},
   "outputs": [],
   "source": [
    "# Calculate revenue by 'profile'\n",
    "profile_revenue = df_high_activity.groupby('profile')['prices'].sum()"
   ]
  },
  {
   "cell_type": "code",
   "execution_count": 108,
   "id": "cb32dcd7",
   "metadata": {},
   "outputs": [],
   "source": [
    "# Copy to clipboard to create chart in Excel\n",
    "profile_revenue.to_clipboard()"
   ]
  },
  {
   "cell_type": "code",
   "execution_count": 110,
   "id": "50479e21",
   "metadata": {},
   "outputs": [
    {
     "data": {
      "text/plain": [
       "Regular Customer    15876776\n",
       "Loyal Customer      10284093\n",
       "New Customer         4803695\n",
       "Name: loyalty_flag, dtype: int64"
      ]
     },
     "execution_count": 110,
     "metadata": {},
     "output_type": "execute_result"
    }
   ],
   "source": [
    "# View frequency for 'loyalty_flag'\n",
    "df_high_activity['loyalty_flag'].value_counts(dropna = False)"
   ]
  },
  {
   "cell_type": "markdown",
   "id": "54931c54",
   "metadata": {},
   "source": [
    "# 12. Export Dataframe and Visualizations"
   ]
  },
  {
   "cell_type": "code",
   "execution_count": 102,
   "id": "aa51fef2",
   "metadata": {},
   "outputs": [],
   "source": [
    "# Export department bar chart\n",
    "department_bar.figure.savefig(os.path.join(path, '04 Analysis','Visualizations', 'department_bar.png'))"
   ]
  },
  {
   "cell_type": "code",
   "execution_count": 111,
   "id": "f7721c7b",
   "metadata": {},
   "outputs": [],
   "source": [
    "# Export profile bar chart\n",
    "hist_bar.figure.savefig(os.path.join(path, '04 Analysis','Visualizations', 'hist_bar.png'))"
   ]
  },
  {
   "cell_type": "code",
   "execution_count": null,
   "id": "297d2597",
   "metadata": {},
   "outputs": [],
   "source": [
    "# Export df_high_activity as high_activity.pkl\n",
    "df_high_activity.to_pickle(os.path.join(path, '02 Data','Prepared Data', 'high_activity.pkl'))"
   ]
  }
 ],
 "metadata": {
  "kernelspec": {
   "display_name": "Python 3 (ipykernel)",
   "language": "python",
   "name": "python3"
  },
  "language_info": {
   "codemirror_mode": {
    "name": "ipython",
    "version": 3
   },
   "file_extension": ".py",
   "mimetype": "text/x-python",
   "name": "python",
   "nbconvert_exporter": "python",
   "pygments_lexer": "ipython3",
   "version": "3.9.13"
  }
 },
 "nbformat": 4,
 "nbformat_minor": 5
}
