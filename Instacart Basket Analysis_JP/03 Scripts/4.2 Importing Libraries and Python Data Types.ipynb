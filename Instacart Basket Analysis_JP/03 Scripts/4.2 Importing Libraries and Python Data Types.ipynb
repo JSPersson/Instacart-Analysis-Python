{
 "cells": [
  {
   "cell_type": "markdown",
   "id": "e2e4a091",
   "metadata": {},
   "source": [
    "### Table of Contents\n",
    "01. Importing Libraries\n",
    "02. Data Types\n"
   ]
  },
  {
   "cell_type": "markdown",
   "id": "b777f517",
   "metadata": {},
   "source": [
    "# 01. Importing Libraries"
   ]
  },
  {
   "cell_type": "code",
   "execution_count": 1,
   "id": "d1dd3eaf",
   "metadata": {},
   "outputs": [],
   "source": [
    "# Import libraries"
   ]
  },
  {
   "cell_type": "code",
   "execution_count": 2,
   "id": "e36b5465",
   "metadata": {},
   "outputs": [],
   "source": [
    "import pandas as pd\n",
    "import numpy as np\n",
    "import os"
   ]
  },
  {
   "cell_type": "markdown",
   "id": "685c1f1c",
   "metadata": {},
   "source": [
    "# 02. Data Types"
   ]
  },
  {
   "cell_type": "code",
   "execution_count": 3,
   "id": "09220662",
   "metadata": {},
   "outputs": [],
   "source": [
    "x = 125"
   ]
  },
  {
   "cell_type": "code",
   "execution_count": 4,
   "id": "ff9c6c86",
   "metadata": {},
   "outputs": [],
   "source": [
    "y = 25"
   ]
  },
  {
   "cell_type": "code",
   "execution_count": 5,
   "id": "a7f89ce4",
   "metadata": {},
   "outputs": [],
   "source": [
    "z = 50"
   ]
  },
  {
   "cell_type": "code",
   "execution_count": 6,
   "id": "50a7a2d8",
   "metadata": {},
   "outputs": [
    {
     "data": {
      "text/plain": [
       "100"
      ]
     },
     "execution_count": 6,
     "metadata": {},
     "output_type": "execute_result"
    }
   ],
   "source": [
    "x - y"
   ]
  },
  {
   "cell_type": "code",
   "execution_count": 7,
   "id": "321da72a",
   "metadata": {},
   "outputs": [
    {
     "data": {
      "text/plain": [
       "100"
      ]
     },
     "execution_count": 7,
     "metadata": {},
     "output_type": "execute_result"
    }
   ],
   "source": [
    "z + z"
   ]
  },
  {
   "cell_type": "code",
   "execution_count": 8,
   "id": "ae2e914d",
   "metadata": {},
   "outputs": [
    {
     "data": {
      "text/plain": [
       "100"
      ]
     },
     "execution_count": 8,
     "metadata": {},
     "output_type": "execute_result"
    }
   ],
   "source": [
    "y + y + z"
   ]
  },
  {
   "cell_type": "code",
   "execution_count": 9,
   "id": "b8ed2970",
   "metadata": {},
   "outputs": [],
   "source": [
    "a = 12.75"
   ]
  },
  {
   "cell_type": "code",
   "execution_count": 10,
   "id": "ee45408b",
   "metadata": {},
   "outputs": [],
   "source": [
    "b = 3.41"
   ]
  },
  {
   "cell_type": "code",
   "execution_count": 11,
   "id": "57d70e3c",
   "metadata": {},
   "outputs": [
    {
     "data": {
      "text/plain": [
       "3.7390029325513194"
      ]
     },
     "execution_count": 11,
     "metadata": {},
     "output_type": "execute_result"
    }
   ],
   "source": [
    "a / b"
   ]
  },
  {
   "cell_type": "code",
   "execution_count": 12,
   "id": "7d7d8459",
   "metadata": {},
   "outputs": [],
   "source": [
    "j = 'sea'"
   ]
  },
  {
   "cell_type": "code",
   "execution_count": 13,
   "id": "2645d578",
   "metadata": {},
   "outputs": [],
   "source": [
    "k = 'shell'"
   ]
  },
  {
   "cell_type": "code",
   "execution_count": 14,
   "id": "af7d33a8",
   "metadata": {},
   "outputs": [
    {
     "data": {
      "text/plain": [
       "'seashell'"
      ]
     },
     "execution_count": 14,
     "metadata": {},
     "output_type": "execute_result"
    }
   ],
   "source": [
    "j + k"
   ]
  },
  {
   "cell_type": "code",
   "execution_count": 15,
   "id": "f6431e2d",
   "metadata": {},
   "outputs": [],
   "source": [
    "c = 'I '"
   ]
  },
  {
   "cell_type": "code",
   "execution_count": 16,
   "id": "cfa06b89",
   "metadata": {},
   "outputs": [],
   "source": [
    "d = 'love '"
   ]
  },
  {
   "cell_type": "code",
   "execution_count": 17,
   "id": "12139617",
   "metadata": {},
   "outputs": [],
   "source": [
    "e = 'Python!'"
   ]
  },
  {
   "cell_type": "code",
   "execution_count": 18,
   "id": "11d9c410",
   "metadata": {},
   "outputs": [
    {
     "data": {
      "text/plain": [
       "'I love Python!'"
      ]
     },
     "execution_count": 18,
     "metadata": {},
     "output_type": "execute_result"
    }
   ],
   "source": [
    "c + d + e"
   ]
  },
  {
   "cell_type": "code",
   "execution_count": 19,
   "id": "c3cb2ac2",
   "metadata": {},
   "outputs": [],
   "source": [
    "r = 'Let '"
   ]
  },
  {
   "cell_type": "code",
   "execution_count": 20,
   "id": "c2e3caa8",
   "metadata": {},
   "outputs": [],
   "source": [
    "s = 'it '"
   ]
  },
  {
   "cell_type": "code",
   "execution_count": 21,
   "id": "e9cf43f9",
   "metadata": {},
   "outputs": [],
   "source": [
    "t = 'snow!'"
   ]
  },
  {
   "cell_type": "code",
   "execution_count": 22,
   "id": "aadcc852",
   "metadata": {},
   "outputs": [
    {
     "data": {
      "text/plain": [
       "'Let it snow!'"
      ]
     },
     "execution_count": 22,
     "metadata": {},
     "output_type": "execute_result"
    }
   ],
   "source": [
    "r + s + t"
   ]
  },
  {
   "cell_type": "code",
   "execution_count": null,
   "id": "d93523a1",
   "metadata": {},
   "outputs": [],
   "source": []
  }
 ],
 "metadata": {
  "kernelspec": {
   "display_name": "Python 3 (ipykernel)",
   "language": "python",
   "name": "python3"
  },
  "language_info": {
   "codemirror_mode": {
    "name": "ipython",
    "version": 3
   },
   "file_extension": ".py",
   "mimetype": "text/x-python",
   "name": "python",
   "nbconvert_exporter": "python",
   "pygments_lexer": "ipython3",
   "version": "3.9.13"
  }
 },
 "nbformat": 4,
 "nbformat_minor": 5
}
